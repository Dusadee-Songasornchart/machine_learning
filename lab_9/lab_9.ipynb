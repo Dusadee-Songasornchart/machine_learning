{
 "cells": [
  {
   "cell_type": "code",
   "execution_count": 1,
   "metadata": {},
   "outputs": [],
   "source": [
    "import numpy as np\n",
    "import pandas as pd\n",
    "import matplotlib.pyplot as plt\n",
    "from sklearn import model_selection\n",
    "from sklearn import utils\n",
    "from sklearn.preprocessing import StandardScaler\n",
    "from sklearn.model_selection import train_test_split, cross_val_score, StratifiedKFold\n",
    "from sklearn.svm import SVC\n",
    "from sklearn.svm import SVR\n",
    "from sklearn import metrics\n",
    "from sklearn.model_selection import GridSearchCV, RandomizedSearchCV\n",
    "from sklearn.metrics import accuracy_score, classification_report, confusion_matrix\n",
    "from sklearn import preprocessing\n",
    "from sklearn.neural_network import MLPClassifier\n",
    "import tensorflow as tf\n",
    "from keras import datasets, layers, models\n",
    "from keras.layers import Conv2D, MaxPooling2D,Dropout,Flatten,Dense\n",
    "import glob\n",
    "from scipy import stats\n",
    "import datetime as dt"
   ]
  },
  {
   "cell_type": "code",
   "execution_count": 2,
   "metadata": {},
   "outputs": [],
   "source": [
    "# Load data from csv 3 files\n",
    "# acceleration.txt, heartrate.txt, labeled_sleep.txt\n",
    "ACC = pd.read_csv('acceleration.txt', sep = ' ',names=['timedelta', 'accX', 'accY', 'accZ'])\n",
    "HeartR = pd.read_csv('heartrate.txt', sep = ',',names=['timedelta', 'heartrate'])\n",
    "SleepL = pd.read_csv('labeled_sleep.txt', sep = ' ',names=['timedelta', 'sleep'])"
   ]
  },
  {
   "cell_type": "code",
   "execution_count": 3,
   "metadata": {},
   "outputs": [],
   "source": [
    "# Check ‘timedelta’ max(), min() of ACC, HeartR, SleepL (ช่วงเวลาที่มีข้อมูลใกล้กัน)\n",
    "ACC_max_date = ACC['timedelta'].max()\n",
    "ACC_min_date = ACC['timedelta'].min()\n",
    "HeartR_max_date = HeartR['timedelta'].max()\n",
    "HeartR_min_date = HeartR['timedelta'].min()\n",
    "SleepL_max_date = SleepL['timedelta'].max()\n",
    "SleepL_min_date = SleepL['timedelta'].min()"
   ]
  },
  {
   "cell_type": "code",
   "execution_count": 4,
   "metadata": {},
   "outputs": [
    {
     "name": "stdout",
     "output_type": "stream",
     "text": [
      "ACC start:  -124489.16105 ACC end:  17643.046417\n",
      "HeartR start:  -556410.36066 HeartR end:  16980.47229\n",
      "SleepL start:  0 SleepL end:  16980\n"
     ]
    }
   ],
   "source": [
    "print('ACC start: ',ACC_min_date,'ACC end: ',ACC_max_date)\n",
    "print('HeartR start: ',HeartR_min_date,'HeartR end: ',HeartR_max_date)\n",
    "print('SleepL start: ',SleepL_min_date,'SleepL end: ',SleepL_max_date)"
   ]
  },
  {
   "cell_type": "code",
   "execution_count": 5,
   "metadata": {},
   "outputs": [],
   "source": [
    "ACC_new = ACC[(ACC[\"timedelta\"]> ACC_min_date) & (ACC[\"timedelta\"] < ACC_max_date) & (ACC[\"timedelta\"]> HeartR_min_date) & (ACC[\"timedelta\"] < HeartR_max_date) &(ACC[\"timedelta\"]> SleepL_min_date) & (ACC[\"timedelta\"] < SleepL_max_date)]\n",
    "HeartR_new = HeartR[(HeartR[\"timedelta\"]> ACC_min_date) & (HeartR[\"timedelta\"] < ACC_max_date) & (HeartR[\"timedelta\"]> HeartR_min_date) & (HeartR[\"timedelta\"] < HeartR_max_date) &(HeartR[\"timedelta\"]> SleepL_min_date) & (HeartR[\"timedelta\"] < SleepL_max_date)]\n",
    "SleepL_new = SleepL[(SleepL[\"timedelta\"]> ACC_min_date) & (SleepL[\"timedelta\"] < ACC_max_date) & (SleepL[\"timedelta\"]> HeartR_min_date) & (SleepL[\"timedelta\"] < HeartR_max_date) &(SleepL[\"timedelta\"]> SleepL_min_date) & (SleepL[\"timedelta\"] < SleepL_max_date)]\n"
   ]
  },
  {
   "cell_type": "code",
   "execution_count": 6,
   "metadata": {},
   "outputs": [
    {
     "name": "stderr",
     "output_type": "stream",
     "text": [
      "C:\\Users\\ACER\\AppData\\Local\\Temp\\ipykernel_29464\\1343708758.py:2: SettingWithCopyWarning: \n",
      "A value is trying to be set on a copy of a slice from a DataFrame.\n",
      "Try using .loc[row_indexer,col_indexer] = value instead\n",
      "\n",
      "See the caveats in the documentation: https://pandas.pydata.org/pandas-docs/stable/user_guide/indexing.html#returning-a-view-versus-a-copy\n",
      "  ACC_new['timedelta'] = pd.DataFrame(pd.to_timedelta(ACC_new['timedelta'], 'seconds').round('1s'))\n",
      "C:\\Users\\ACER\\AppData\\Local\\Temp\\ipykernel_29464\\1343708758.py:3: SettingWithCopyWarning: \n",
      "A value is trying to be set on a copy of a slice from a DataFrame.\n",
      "Try using .loc[row_indexer,col_indexer] = value instead\n",
      "\n",
      "See the caveats in the documentation: https://pandas.pydata.org/pandas-docs/stable/user_guide/indexing.html#returning-a-view-versus-a-copy\n",
      "  HeartR_new['timedelta'] = pd.DataFrame(pd.to_timedelta(HeartR_new['timedelta'], 'seconds').round('1s'))\n",
      "C:\\Users\\ACER\\AppData\\Local\\Temp\\ipykernel_29464\\1343708758.py:4: SettingWithCopyWarning: \n",
      "A value is trying to be set on a copy of a slice from a DataFrame.\n",
      "Try using .loc[row_indexer,col_indexer] = value instead\n",
      "\n",
      "See the caveats in the documentation: https://pandas.pydata.org/pandas-docs/stable/user_guide/indexing.html#returning-a-view-versus-a-copy\n",
      "  SleepL_new['timedelta'] = pd.DataFrame(pd.to_timedelta(SleepL_new['timedelta'], 'seconds').round('1s'))\n"
     ]
    }
   ],
   "source": [
    "# Convert to datetime and round to second,\n",
    "ACC_new['timedelta'] = pd.DataFrame(pd.to_timedelta(ACC_new['timedelta'], 'seconds').round('1s'))\n",
    "HeartR_new['timedelta'] = pd.DataFrame(pd.to_timedelta(HeartR_new['timedelta'], 'seconds').round('1s'))\n",
    "SleepL_new['timedelta'] = pd.DataFrame(pd.to_timedelta(SleepL_new['timedelta'], 'seconds').round('1s'))"
   ]
  },
  {
   "cell_type": "code",
   "execution_count": 7,
   "metadata": {},
   "outputs": [],
   "source": [
    "# Average rounding duplicated time\n",
    "df_acc_X = ACC_new.groupby('timedelta')['accX'].mean()\n",
    "df_acc_Y = ACC_new.groupby('timedelta')['accY'].mean()\n",
    "df_acc_Z = ACC_new.groupby('timedelta')['accZ'].mean()"
   ]
  },
  {
   "cell_type": "code",
   "execution_count": 8,
   "metadata": {},
   "outputs": [],
   "source": [
    "ACC_new_2 = pd.concat([df_acc_X, df_acc_Y, df_acc_Z], axis=1).reset_index()"
   ]
  },
  {
   "cell_type": "code",
   "execution_count": 9,
   "metadata": {},
   "outputs": [],
   "source": [
    "ACC_new_2['timedelta'] = ACC_new_2['timedelta'] - ACC_new_2['timedelta'].min()"
   ]
  },
  {
   "cell_type": "code",
   "execution_count": 10,
   "metadata": {},
   "outputs": [
    {
     "data": {
      "text/html": [
       "<div>\n",
       "<style scoped>\n",
       "    .dataframe tbody tr th:only-of-type {\n",
       "        vertical-align: middle;\n",
       "    }\n",
       "\n",
       "    .dataframe tbody tr th {\n",
       "        vertical-align: top;\n",
       "    }\n",
       "\n",
       "    .dataframe thead th {\n",
       "        text-align: right;\n",
       "    }\n",
       "</style>\n",
       "<table border=\"1\" class=\"dataframe\">\n",
       "  <thead>\n",
       "    <tr style=\"text-align: right;\">\n",
       "      <th></th>\n",
       "      <th>heartrate</th>\n",
       "    </tr>\n",
       "    <tr>\n",
       "      <th>timedelta</th>\n",
       "      <th></th>\n",
       "    </tr>\n",
       "  </thead>\n",
       "  <tbody>\n",
       "    <tr>\n",
       "      <th>0 days 00:00:08</th>\n",
       "      <td>97.0</td>\n",
       "    </tr>\n",
       "    <tr>\n",
       "      <th>0 days 00:00:09</th>\n",
       "      <td>97.0</td>\n",
       "    </tr>\n",
       "    <tr>\n",
       "      <th>0 days 00:00:10</th>\n",
       "      <td>97.0</td>\n",
       "    </tr>\n",
       "    <tr>\n",
       "      <th>0 days 00:00:11</th>\n",
       "      <td>97.0</td>\n",
       "    </tr>\n",
       "    <tr>\n",
       "      <th>0 days 00:00:12</th>\n",
       "      <td>97.0</td>\n",
       "    </tr>\n",
       "    <tr>\n",
       "      <th>...</th>\n",
       "      <td>...</td>\n",
       "    </tr>\n",
       "    <tr>\n",
       "      <th>0 days 04:42:51</th>\n",
       "      <td>75.0</td>\n",
       "    </tr>\n",
       "    <tr>\n",
       "      <th>0 days 04:42:52</th>\n",
       "      <td>75.0</td>\n",
       "    </tr>\n",
       "    <tr>\n",
       "      <th>0 days 04:42:53</th>\n",
       "      <td>75.0</td>\n",
       "    </tr>\n",
       "    <tr>\n",
       "      <th>0 days 04:42:54</th>\n",
       "      <td>75.0</td>\n",
       "    </tr>\n",
       "    <tr>\n",
       "      <th>0 days 04:42:55</th>\n",
       "      <td>76.0</td>\n",
       "    </tr>\n",
       "  </tbody>\n",
       "</table>\n",
       "<p>16968 rows × 1 columns</p>\n",
       "</div>"
      ],
      "text/plain": [
       "                 heartrate\n",
       "timedelta                 \n",
       "0 days 00:00:08       97.0\n",
       "0 days 00:00:09       97.0\n",
       "0 days 00:00:10       97.0\n",
       "0 days 00:00:11       97.0\n",
       "0 days 00:00:12       97.0\n",
       "...                    ...\n",
       "0 days 04:42:51       75.0\n",
       "0 days 04:42:52       75.0\n",
       "0 days 04:42:53       75.0\n",
       "0 days 04:42:54       75.0\n",
       "0 days 04:42:55       76.0\n",
       "\n",
       "[16968 rows x 1 columns]"
      ]
     },
     "execution_count": 10,
     "metadata": {},
     "output_type": "execute_result"
    }
   ],
   "source": [
    "df_heartrate = HeartR_new.groupby('timedelta')['heartrate'].mean()\n",
    "resample_rule = '1s'\n",
    "HeartR_new2 = HeartR_new.set_index('timedelta').resample(resample_rule,).median().ffill()\n",
    "HeartR_new2"
   ]
  },
  {
   "cell_type": "code",
   "execution_count": 11,
   "metadata": {},
   "outputs": [
    {
     "data": {
      "text/html": [
       "<div>\n",
       "<style scoped>\n",
       "    .dataframe tbody tr th:only-of-type {\n",
       "        vertical-align: middle;\n",
       "    }\n",
       "\n",
       "    .dataframe tbody tr th {\n",
       "        vertical-align: top;\n",
       "    }\n",
       "\n",
       "    .dataframe thead th {\n",
       "        text-align: right;\n",
       "    }\n",
       "</style>\n",
       "<table border=\"1\" class=\"dataframe\">\n",
       "  <thead>\n",
       "    <tr style=\"text-align: right;\">\n",
       "      <th></th>\n",
       "      <th>timedelta</th>\n",
       "      <th>heartrate</th>\n",
       "    </tr>\n",
       "  </thead>\n",
       "  <tbody>\n",
       "    <tr>\n",
       "      <th>0</th>\n",
       "      <td>0 days 00:00:00</td>\n",
       "      <td>97.0</td>\n",
       "    </tr>\n",
       "    <tr>\n",
       "      <th>1</th>\n",
       "      <td>0 days 00:00:01</td>\n",
       "      <td>97.0</td>\n",
       "    </tr>\n",
       "    <tr>\n",
       "      <th>2</th>\n",
       "      <td>0 days 00:00:02</td>\n",
       "      <td>97.0</td>\n",
       "    </tr>\n",
       "    <tr>\n",
       "      <th>3</th>\n",
       "      <td>0 days 00:00:03</td>\n",
       "      <td>97.0</td>\n",
       "    </tr>\n",
       "    <tr>\n",
       "      <th>4</th>\n",
       "      <td>0 days 00:00:04</td>\n",
       "      <td>97.0</td>\n",
       "    </tr>\n",
       "    <tr>\n",
       "      <th>...</th>\n",
       "      <td>...</td>\n",
       "      <td>...</td>\n",
       "    </tr>\n",
       "    <tr>\n",
       "      <th>16963</th>\n",
       "      <td>0 days 04:42:43</td>\n",
       "      <td>75.0</td>\n",
       "    </tr>\n",
       "    <tr>\n",
       "      <th>16964</th>\n",
       "      <td>0 days 04:42:44</td>\n",
       "      <td>75.0</td>\n",
       "    </tr>\n",
       "    <tr>\n",
       "      <th>16965</th>\n",
       "      <td>0 days 04:42:45</td>\n",
       "      <td>75.0</td>\n",
       "    </tr>\n",
       "    <tr>\n",
       "      <th>16966</th>\n",
       "      <td>0 days 04:42:46</td>\n",
       "      <td>75.0</td>\n",
       "    </tr>\n",
       "    <tr>\n",
       "      <th>16967</th>\n",
       "      <td>0 days 04:42:47</td>\n",
       "      <td>76.0</td>\n",
       "    </tr>\n",
       "  </tbody>\n",
       "</table>\n",
       "<p>16968 rows × 2 columns</p>\n",
       "</div>"
      ],
      "text/plain": [
       "            timedelta  heartrate\n",
       "0     0 days 00:00:00       97.0\n",
       "1     0 days 00:00:01       97.0\n",
       "2     0 days 00:00:02       97.0\n",
       "3     0 days 00:00:03       97.0\n",
       "4     0 days 00:00:04       97.0\n",
       "...               ...        ...\n",
       "16963 0 days 04:42:43       75.0\n",
       "16964 0 days 04:42:44       75.0\n",
       "16965 0 days 04:42:45       75.0\n",
       "16966 0 days 04:42:46       75.0\n",
       "16967 0 days 04:42:47       76.0\n",
       "\n",
       "[16968 rows x 2 columns]"
      ]
     },
     "execution_count": 11,
     "metadata": {},
     "output_type": "execute_result"
    }
   ],
   "source": [
    "#Resampling every 1s with median with ffill\n",
    "df_heartrate = HeartR_new.groupby('timedelta')['heartrate'].mean()\n",
    "\n",
    "resample_rule = '1s'\n",
    "HeartR_new2 = HeartR_new.set_index('timedelta').resample(resample_rule,).median().ffill()\n",
    "HeartR_new_2 = pd.concat([HeartR_new2], axis=1).reset_index()\n",
    "HeartR_new_2['timedelta'] = HeartR_new_2['timedelta']-HeartR_new_2['timedelta'].min()\n",
    "HeartR_new_2"
   ]
  },
  {
   "cell_type": "code",
   "execution_count": 12,
   "metadata": {},
   "outputs": [
    {
     "data": {
      "text/html": [
       "<div>\n",
       "<style scoped>\n",
       "    .dataframe tbody tr th:only-of-type {\n",
       "        vertical-align: middle;\n",
       "    }\n",
       "\n",
       "    .dataframe tbody tr th {\n",
       "        vertical-align: top;\n",
       "    }\n",
       "\n",
       "    .dataframe thead th {\n",
       "        text-align: right;\n",
       "    }\n",
       "</style>\n",
       "<table border=\"1\" class=\"dataframe\">\n",
       "  <thead>\n",
       "    <tr style=\"text-align: right;\">\n",
       "      <th></th>\n",
       "      <th>sleep</th>\n",
       "    </tr>\n",
       "    <tr>\n",
       "      <th>timedelta</th>\n",
       "      <th></th>\n",
       "    </tr>\n",
       "  </thead>\n",
       "  <tbody>\n",
       "    <tr>\n",
       "      <th>0 days 00:00:30</th>\n",
       "      <td>-1.0</td>\n",
       "    </tr>\n",
       "    <tr>\n",
       "      <th>0 days 00:00:31</th>\n",
       "      <td>-1.0</td>\n",
       "    </tr>\n",
       "    <tr>\n",
       "      <th>0 days 00:00:32</th>\n",
       "      <td>-1.0</td>\n",
       "    </tr>\n",
       "    <tr>\n",
       "      <th>0 days 00:00:33</th>\n",
       "      <td>-1.0</td>\n",
       "    </tr>\n",
       "    <tr>\n",
       "      <th>0 days 00:00:34</th>\n",
       "      <td>-1.0</td>\n",
       "    </tr>\n",
       "    <tr>\n",
       "      <th>...</th>\n",
       "      <td>...</td>\n",
       "    </tr>\n",
       "    <tr>\n",
       "      <th>0 days 04:42:26</th>\n",
       "      <td>0.0</td>\n",
       "    </tr>\n",
       "    <tr>\n",
       "      <th>0 days 04:42:27</th>\n",
       "      <td>0.0</td>\n",
       "    </tr>\n",
       "    <tr>\n",
       "      <th>0 days 04:42:28</th>\n",
       "      <td>0.0</td>\n",
       "    </tr>\n",
       "    <tr>\n",
       "      <th>0 days 04:42:29</th>\n",
       "      <td>0.0</td>\n",
       "    </tr>\n",
       "    <tr>\n",
       "      <th>0 days 04:42:30</th>\n",
       "      <td>0.0</td>\n",
       "    </tr>\n",
       "  </tbody>\n",
       "</table>\n",
       "<p>16921 rows × 1 columns</p>\n",
       "</div>"
      ],
      "text/plain": [
       "                 sleep\n",
       "timedelta             \n",
       "0 days 00:00:30   -1.0\n",
       "0 days 00:00:31   -1.0\n",
       "0 days 00:00:32   -1.0\n",
       "0 days 00:00:33   -1.0\n",
       "0 days 00:00:34   -1.0\n",
       "...                ...\n",
       "0 days 04:42:26    0.0\n",
       "0 days 04:42:27    0.0\n",
       "0 days 04:42:28    0.0\n",
       "0 days 04:42:29    0.0\n",
       "0 days 04:42:30    0.0\n",
       "\n",
       "[16921 rows x 1 columns]"
      ]
     },
     "execution_count": 12,
     "metadata": {},
     "output_type": "execute_result"
    }
   ],
   "source": [
    "resample_rule = '1s'\n",
    "SleepL_new2 = SleepL_new.set_index('timedelta').resample(resample_rule,).median().ffill()\n",
    "SleepL_new2"
   ]
  },
  {
   "cell_type": "code",
   "execution_count": 13,
   "metadata": {},
   "outputs": [
    {
     "data": {
      "text/html": [
       "<div>\n",
       "<style scoped>\n",
       "    .dataframe tbody tr th:only-of-type {\n",
       "        vertical-align: middle;\n",
       "    }\n",
       "\n",
       "    .dataframe tbody tr th {\n",
       "        vertical-align: top;\n",
       "    }\n",
       "\n",
       "    .dataframe thead th {\n",
       "        text-align: right;\n",
       "    }\n",
       "</style>\n",
       "<table border=\"1\" class=\"dataframe\">\n",
       "  <thead>\n",
       "    <tr style=\"text-align: right;\">\n",
       "      <th></th>\n",
       "      <th>timedelta</th>\n",
       "      <th>sleep</th>\n",
       "    </tr>\n",
       "  </thead>\n",
       "  <tbody>\n",
       "    <tr>\n",
       "      <th>0</th>\n",
       "      <td>0 days 00:00:00</td>\n",
       "      <td>-1.0</td>\n",
       "    </tr>\n",
       "    <tr>\n",
       "      <th>1</th>\n",
       "      <td>0 days 00:00:01</td>\n",
       "      <td>-1.0</td>\n",
       "    </tr>\n",
       "    <tr>\n",
       "      <th>2</th>\n",
       "      <td>0 days 00:00:02</td>\n",
       "      <td>-1.0</td>\n",
       "    </tr>\n",
       "    <tr>\n",
       "      <th>3</th>\n",
       "      <td>0 days 00:00:03</td>\n",
       "      <td>-1.0</td>\n",
       "    </tr>\n",
       "    <tr>\n",
       "      <th>4</th>\n",
       "      <td>0 days 00:00:04</td>\n",
       "      <td>-1.0</td>\n",
       "    </tr>\n",
       "    <tr>\n",
       "      <th>...</th>\n",
       "      <td>...</td>\n",
       "      <td>...</td>\n",
       "    </tr>\n",
       "    <tr>\n",
       "      <th>16916</th>\n",
       "      <td>0 days 04:41:56</td>\n",
       "      <td>0.0</td>\n",
       "    </tr>\n",
       "    <tr>\n",
       "      <th>16917</th>\n",
       "      <td>0 days 04:41:57</td>\n",
       "      <td>0.0</td>\n",
       "    </tr>\n",
       "    <tr>\n",
       "      <th>16918</th>\n",
       "      <td>0 days 04:41:58</td>\n",
       "      <td>0.0</td>\n",
       "    </tr>\n",
       "    <tr>\n",
       "      <th>16919</th>\n",
       "      <td>0 days 04:41:59</td>\n",
       "      <td>0.0</td>\n",
       "    </tr>\n",
       "    <tr>\n",
       "      <th>16920</th>\n",
       "      <td>0 days 04:42:00</td>\n",
       "      <td>0.0</td>\n",
       "    </tr>\n",
       "  </tbody>\n",
       "</table>\n",
       "<p>16921 rows × 2 columns</p>\n",
       "</div>"
      ],
      "text/plain": [
       "            timedelta  sleep\n",
       "0     0 days 00:00:00   -1.0\n",
       "1     0 days 00:00:01   -1.0\n",
       "2     0 days 00:00:02   -1.0\n",
       "3     0 days 00:00:03   -1.0\n",
       "4     0 days 00:00:04   -1.0\n",
       "...               ...    ...\n",
       "16916 0 days 04:41:56    0.0\n",
       "16917 0 days 04:41:57    0.0\n",
       "16918 0 days 04:41:58    0.0\n",
       "16919 0 days 04:41:59    0.0\n",
       "16920 0 days 04:42:00    0.0\n",
       "\n",
       "[16921 rows x 2 columns]"
      ]
     },
     "execution_count": 13,
     "metadata": {},
     "output_type": "execute_result"
    }
   ],
   "source": [
    "df_SleepL = SleepL_new.groupby('timedelta')['sleep'].mean()\n",
    "resample_rule = '1s'\n",
    "SleepL_new2 = SleepL_new.set_index('timedelta').resample(resample_rule,).median().ffill()\n",
    "SleepL_new_2 = pd.concat([SleepL_new2], axis=1).reset_index()\n",
    "SleepL_new_2['timedelta'] = SleepL_new_2['timedelta']-SleepL_new_2['timedelta'].min()\n",
    "SleepL_new_2"
   ]
  },
  {
   "cell_type": "code",
   "execution_count": 14,
   "metadata": {},
   "outputs": [
    {
     "data": {
      "text/html": [
       "<div>\n",
       "<style scoped>\n",
       "    .dataframe tbody tr th:only-of-type {\n",
       "        vertical-align: middle;\n",
       "    }\n",
       "\n",
       "    .dataframe tbody tr th {\n",
       "        vertical-align: top;\n",
       "    }\n",
       "\n",
       "    .dataframe thead th {\n",
       "        text-align: right;\n",
       "    }\n",
       "</style>\n",
       "<table border=\"1\" class=\"dataframe\">\n",
       "  <thead>\n",
       "    <tr style=\"text-align: right;\">\n",
       "      <th></th>\n",
       "      <th>timedelta</th>\n",
       "      <th>accX</th>\n",
       "      <th>accY</th>\n",
       "      <th>accZ</th>\n",
       "      <th>heartrate</th>\n",
       "      <th>sleep</th>\n",
       "    </tr>\n",
       "  </thead>\n",
       "  <tbody>\n",
       "    <tr>\n",
       "      <th>0</th>\n",
       "      <td>0 days 00:00:00</td>\n",
       "      <td>-0.243203</td>\n",
       "      <td>0.895372</td>\n",
       "      <td>0.367591</td>\n",
       "      <td>97.0</td>\n",
       "      <td>-1.0</td>\n",
       "    </tr>\n",
       "    <tr>\n",
       "      <th>1</th>\n",
       "      <td>0 days 00:00:01</td>\n",
       "      <td>-0.240757</td>\n",
       "      <td>0.873826</td>\n",
       "      <td>0.415446</td>\n",
       "      <td>97.0</td>\n",
       "      <td>-1.0</td>\n",
       "    </tr>\n",
       "    <tr>\n",
       "      <th>2</th>\n",
       "      <td>0 days 00:00:02</td>\n",
       "      <td>-0.244620</td>\n",
       "      <td>0.883943</td>\n",
       "      <td>0.387026</td>\n",
       "      <td>97.0</td>\n",
       "      <td>-1.0</td>\n",
       "    </tr>\n",
       "    <tr>\n",
       "      <th>3</th>\n",
       "      <td>0 days 00:00:03</td>\n",
       "      <td>-0.248036</td>\n",
       "      <td>0.902427</td>\n",
       "      <td>0.347812</td>\n",
       "      <td>97.0</td>\n",
       "      <td>-1.0</td>\n",
       "    </tr>\n",
       "    <tr>\n",
       "      <th>4</th>\n",
       "      <td>0 days 00:00:04</td>\n",
       "      <td>-0.241778</td>\n",
       "      <td>0.912946</td>\n",
       "      <td>0.321502</td>\n",
       "      <td>97.0</td>\n",
       "      <td>-1.0</td>\n",
       "    </tr>\n",
       "    <tr>\n",
       "      <th>...</th>\n",
       "      <td>...</td>\n",
       "      <td>...</td>\n",
       "      <td>...</td>\n",
       "      <td>...</td>\n",
       "      <td>...</td>\n",
       "      <td>...</td>\n",
       "    </tr>\n",
       "    <tr>\n",
       "      <th>16976</th>\n",
       "      <td>0 days 04:42:56</td>\n",
       "      <td>-0.442763</td>\n",
       "      <td>-0.525892</td>\n",
       "      <td>0.722950</td>\n",
       "      <td>76.0</td>\n",
       "      <td>0.0</td>\n",
       "    </tr>\n",
       "    <tr>\n",
       "      <th>16977</th>\n",
       "      <td>0 days 04:42:57</td>\n",
       "      <td>-0.441990</td>\n",
       "      <td>-0.525476</td>\n",
       "      <td>0.723410</td>\n",
       "      <td>76.0</td>\n",
       "      <td>0.0</td>\n",
       "    </tr>\n",
       "    <tr>\n",
       "      <th>16978</th>\n",
       "      <td>0 days 04:42:58</td>\n",
       "      <td>-0.441581</td>\n",
       "      <td>-0.525116</td>\n",
       "      <td>0.724003</td>\n",
       "      <td>76.0</td>\n",
       "      <td>0.0</td>\n",
       "    </tr>\n",
       "    <tr>\n",
       "      <th>16979</th>\n",
       "      <td>0 days 04:42:59</td>\n",
       "      <td>-0.442283</td>\n",
       "      <td>-0.525849</td>\n",
       "      <td>0.723265</td>\n",
       "      <td>76.0</td>\n",
       "      <td>0.0</td>\n",
       "    </tr>\n",
       "    <tr>\n",
       "      <th>16980</th>\n",
       "      <td>0 days 04:43:00</td>\n",
       "      <td>-0.442674</td>\n",
       "      <td>-0.525962</td>\n",
       "      <td>0.722678</td>\n",
       "      <td>76.0</td>\n",
       "      <td>0.0</td>\n",
       "    </tr>\n",
       "  </tbody>\n",
       "</table>\n",
       "<p>16981 rows × 6 columns</p>\n",
       "</div>"
      ],
      "text/plain": [
       "            timedelta      accX      accY      accZ  heartrate  sleep\n",
       "0     0 days 00:00:00 -0.243203  0.895372  0.367591       97.0   -1.0\n",
       "1     0 days 00:00:01 -0.240757  0.873826  0.415446       97.0   -1.0\n",
       "2     0 days 00:00:02 -0.244620  0.883943  0.387026       97.0   -1.0\n",
       "3     0 days 00:00:03 -0.248036  0.902427  0.347812       97.0   -1.0\n",
       "4     0 days 00:00:04 -0.241778  0.912946  0.321502       97.0   -1.0\n",
       "...               ...       ...       ...       ...        ...    ...\n",
       "16976 0 days 04:42:56 -0.442763 -0.525892  0.722950       76.0    0.0\n",
       "16977 0 days 04:42:57 -0.441990 -0.525476  0.723410       76.0    0.0\n",
       "16978 0 days 04:42:58 -0.441581 -0.525116  0.724003       76.0    0.0\n",
       "16979 0 days 04:42:59 -0.442283 -0.525849  0.723265       76.0    0.0\n",
       "16980 0 days 04:43:00 -0.442674 -0.525962  0.722678       76.0    0.0\n",
       "\n",
       "[16981 rows x 6 columns]"
      ]
     },
     "execution_count": 14,
     "metadata": {},
     "output_type": "execute_result"
    }
   ],
   "source": [
    "# ------------Merge All Data -------------------------------\n",
    "df_all = []\n",
    "df_all = pd.merge_asof(ACC_new_2, HeartR_new_2, on='timedelta')\n",
    "df_all = pd.merge_asof(df_all, SleepL_new_2, on = 'timedelta')\n",
    "df_all"
   ]
  },
  {
   "cell_type": "code",
   "execution_count": 15,
   "metadata": {},
   "outputs": [],
   "source": [
    "df_all['sleep'] = df_all['sleep'].replace(-1,0)"
   ]
  },
  {
   "cell_type": "code",
   "execution_count": 16,
   "metadata": {},
   "outputs": [],
   "source": [
    "df_all['heartrate'].fillna(df_all['heartrate'].median())\n",
    "df_all['sleep'].fillna(0)\n",
    "df_all = df_all.drop(columns='timedelta')"
   ]
  },
  {
   "cell_type": "code",
   "execution_count": 17,
   "metadata": {},
   "outputs": [],
   "source": [
    "feature_columns = ['accX', 'accY', 'accZ', 'heartrate']\n",
    "label_columns = ['sleep']\n",
    "df_feature = df_all[feature_columns]\n",
    "scaler = preprocessing.StandardScaler()\n",
    "df_feature = pd.DataFrame(scaler.fit_transform(df_feature.values),index = df_feature.index,columns=df_feature.columns)\n",
    "df_label = df_all[label_columns]"
   ]
  },
  {
   "cell_type": "code",
   "execution_count": 18,
   "metadata": {},
   "outputs": [
    {
     "data": {
      "text/plain": [
       "<AxesSubplot: >"
      ]
     },
     "execution_count": 18,
     "metadata": {},
     "output_type": "execute_result"
    },
    {
     "data": {
      "image/png": "[encoded data removed]",
      "text/plain": [
       "<Figure size 640x480 with 1 Axes>"
      ]
     },
     "metadata": {},
     "output_type": "display_data"
    }
   ],
   "source": [
    "df_feature.plot.line()"
   ]
  },
  {
   "cell_type": "code",
   "execution_count": 19,
   "metadata": {},
   "outputs": [
    {
     "data": {
      "text/plain": [
       "<AxesSubplot: >"
      ]
     },
     "execution_count": 19,
     "metadata": {},
     "output_type": "execute_result"
    },
    {
     "data": {
      "image/png": "[encoded data removed]",
      "text/plain": [
       "<Figure size 640x480 with 1 Axes>"
      ]
     },
     "metadata": {},
     "output_type": "display_data"
    }
   ],
   "source": [
    "df_label.plot.line()"
   ]
  },
  {
   "cell_type": "code",
   "execution_count": 20,
   "metadata": {},
   "outputs": [],
   "source": [
    "# ------------ Train-Test-Split 2D features -------------------------------\n",
    "seed = 42\n",
    "x_train, x_test, y_train, y_test = model_selection.train_test_split( df_feature, df_label, test_size=0.3, random_state=seed)"
   ]
  },
  {
   "cell_type": "code",
   "execution_count": 21,
   "metadata": {},
   "outputs": [
    {
     "name": "stderr",
     "output_type": "stream",
     "text": [
      "C:\\Users\\ACER\\AppData\\Local\\Temp\\ipykernel_29464\\4025011448.py:16: FutureWarning: Unlike other reduction functions (e.g. `skew`, `kurtosis`), the default behavior of `mode` typically preserves the axis it acts along. In SciPy 1.11.0, this behavior will change: the default value of `keepdims` will become False, the `axis` over which the statistic is taken will be eliminated, and the value None will no longer be accepted. Set `keepdims` to True or False to avoid this warning.\n",
      "  Labels = stats.mode(df_label[t : t+slidingW])\n"
     ]
    }
   ],
   "source": [
    "slidingW = 100\n",
    "Stride_step = 5\n",
    "n_features = 4 \n",
    "df_feature3D = np.array([],ndmin=2)\n",
    "df_label_new = np.array([])\n",
    "\n",
    "for t in range(0 , len(df_feature), Stride_step ):\n",
    "    F3d = np.array(df_feature[t:t+slidingW],ndmin=2)\n",
    "    if len(F3d) <slidingW:\n",
    "        break\n",
    "    F3d.reshape(slidingW, n_features,1)\n",
    "    if df_feature3D.size == 0 :\n",
    "        df_feature3D = F3d\n",
    "    else:\n",
    "        df_feature3D = np.dstack((df_feature3D,F3d))\n",
    "    Labels = stats.mode(df_label[t : t+slidingW])\n",
    "    df_label_new = np.append(df_label_new,Labels[0])\n"
   ]
  },
  {
   "cell_type": "code",
   "execution_count": 22,
   "metadata": {},
   "outputs": [
    {
     "data": {
      "text/plain": [
       "array([[-1.08121498, -1.09911905,  1.13700377, -0.50104715],\n",
       "       [-1.08093764, -1.09792365,  1.13793902, -0.50104715],\n",
       "       [-1.08281078, -1.09874351,  1.13714151, -0.50104715],\n",
       "       [-1.08311172, -1.09805034,  1.13739179, -0.50104715],\n",
       "       [-1.08034736, -1.09649515,  1.13830561, -0.50104715],\n",
       "       [-1.0826026 , -1.09738127,  1.13779902, -0.50104715],\n",
       "       [-1.08299014, -1.09776666,  1.13724688, -0.50104715],\n",
       "       [-1.08209192, -1.09651416,  1.13801504, -0.50104715],\n",
       "       [-1.08216258, -1.09677464,  1.13791832, -0.50104715],\n",
       "       [-1.08243994, -1.09797627,  1.13671885, -0.50104715],\n",
       "       [-1.08195894, -1.09773187,  1.13735717, -0.50104715],\n",
       "       [-1.08120816, -1.09632232,  1.13772863, -0.50104715],\n",
       "       [-1.08298403, -1.09747939,  1.13714866, -0.50104715],\n",
       "       [-1.08249694, -1.09793615,  1.13722506, -0.50104715],\n",
       "       [-1.08089054, -1.09637587,  1.1378852 , -0.50104715],\n",
       "       [-1.07959642, -1.0963384 ,  1.13828791, -0.50104715],\n",
       "       [-1.0811109 , -1.09531608,  1.13771396, -0.50104715],\n",
       "       [-1.08299087, -1.09698786,  1.13732819, -0.50104715],\n",
       "       [-1.08211227, -1.09626425,  1.13711012, -0.50104715],\n",
       "       [-1.08098931, -1.09528393,  1.1377388 , -0.50104715],\n",
       "       [-1.08208584, -1.09666847,  1.1375348 , -0.50104715],\n",
       "       [-1.08272188, -1.09755791,  1.13771508, -0.63003477],\n",
       "       [-1.08308966, -1.09715644,  1.1375205 , -0.63003477],\n",
       "       [-1.08226063, -1.09634553,  1.13783251, -0.63003477],\n",
       "       [-1.08124161, -1.09593251,  1.13852088, -0.63003477],\n",
       "       [-1.08274619, -1.096383  ,  1.13742416, -0.63003477],\n",
       "       [-1.08308586, -1.09742053,  1.137172  , -0.75902239],\n",
       "       [-1.08216714, -1.09623135,  1.13802596, -0.75902239],\n",
       "       [-1.08133431, -1.09521969,  1.13808542, -0.75902239],\n",
       "       [-1.08303864, -1.09579588,  1.13828112, -0.75902239],\n",
       "       [-1.08492314, -1.09550512,  1.14159874, -0.75902239],\n",
       "       [-1.08268219, -1.09373929,  1.13826945, -0.75902239],\n",
       "       [-1.0836126 , -1.09421289,  1.13302411, -0.75902239],\n",
       "       [-1.08314969, -1.09610823,  1.13381866, -0.75902239],\n",
       "       [-1.08266333, -1.09580138,  1.13634175, -0.75902239],\n",
       "       [-1.08075376, -1.09335168,  1.13832253, -0.75902239],\n",
       "       [-1.08165728, -1.09350335,  1.13786376, -0.88801001],\n",
       "       [-1.08289741, -1.09431513,  1.13746593, -0.88801001],\n",
       "       [-1.08294834, -1.09411084,  1.13751598, -0.88801001],\n",
       "       [-1.08058658, -1.09272005,  1.13835753, -0.88801001],\n",
       "       [-1.08204936, -1.09412424,  1.13823634, -0.88801001],\n",
       "       [-1.08324924, -1.09464789,  1.13813886, -0.88801001],\n",
       "       [-1.08298764, -1.0955156 ,  1.13802555, -0.88801001],\n",
       "       [-1.08132444, -1.09351224,  1.13894653, -0.88801001],\n",
       "       [-1.08237004, -1.0936996 ,  1.13823597, -0.88801001],\n",
       "       [-1.08290272, -1.09527859,  1.13810499, -0.88801001],\n",
       "       [-1.08249543, -1.09452655,  1.13854984, -1.01699764],\n",
       "       [-1.08066711, -1.09267011,  1.13938989, -1.01699764],\n",
       "       [-1.08195592, -1.09331508,  1.13876212, -1.01699764],\n",
       "       [-1.08244526, -1.09311704,  1.13849829, -1.01699764],\n",
       "       [-1.08324622, -1.09407517,  1.13804176, -1.01699764],\n",
       "       [-1.08161548, -1.09311616,  1.13866803, -1.01699764],\n",
       "       [-1.08176516, -1.09282712,  1.13883475, -1.01699764],\n",
       "       [-1.0825357 , -1.09450691,  1.1380203 , -1.01699764],\n",
       "       [-1.08253494, -1.09427945,  1.13786449, -1.01699764],\n",
       "       [-1.08039281, -1.09302607,  1.13869437, -1.01699764],\n",
       "       [-1.08145146, -1.09408387,  1.13780048, -1.01699764],\n",
       "       [-1.08255774, -1.09471123,  1.13768423, -1.01699764],\n",
       "       [-1.08148629, -1.09383967,  1.13815354, -1.01699764],\n",
       "       [-1.08149085, -1.09337754,  1.13838124, -1.01699764],\n",
       "       [-1.08240803, -1.09566488,  1.13750658, -1.01699764],\n",
       "       [-1.08160331, -1.09496366,  1.13806021, -1.01699764],\n",
       "       [-1.08112458, -1.09489499,  1.13869927, -1.01699764],\n",
       "       [-1.08295592, -1.09510375,  1.13821451, -1.01699764],\n",
       "       [-1.08299545, -1.09586112,  1.13762513, -1.01699764],\n",
       "       [-1.08131607, -1.09449532,  1.13849302, -1.01699764],\n",
       "       [-1.0819749 , -1.09516172,  1.13825177, -1.14598526],\n",
       "       [-1.08281915, -1.09595391,  1.13741211, -1.14598526],\n",
       "       [-1.08362614, -1.0969584 ,  1.13756793, -1.14598526],\n",
       "       [-1.08236699, -1.0957077 ,  1.13826344, -1.14598526],\n",
       "       [-1.08175682, -1.0947576 ,  1.13833607, -1.14598526],\n",
       "       [-1.08322232, -1.09552696,  1.13744847, -0.88801001],\n",
       "       [-1.08392556, -1.09598516,  1.13742981, -0.88801001],\n",
       "       [-1.08199239, -1.0945087 ,  1.13790213, -0.88801001],\n",
       "       [-1.08268084, -1.09459524,  1.13789988, -0.88801001],\n",
       "       [-1.08311172, -1.09635982,  1.13699022, -0.88801001],\n",
       "       [-1.08201365, -1.09563452,  1.13755738, -0.88801001],\n",
       "       [-1.0821907 , -1.0952572 ,  1.13779488, -0.75902239],\n",
       "       [-1.08347875, -1.09662566,  1.13686941, -0.75902239],\n",
       "       [-1.08313754, -1.09635715,  1.13714679, -0.75902239],\n",
       "       [-1.08057671, -1.09424111,  1.13822995, -0.75902239],\n",
       "       [-1.08233965, -1.09590576,  1.13826532, -0.75902239],\n",
       "       [-1.08372875, -1.0964053 ,  1.13772148, -0.63003477],\n",
       "       [-1.0837789 , -1.09655605,  1.13742264, -0.63003477],\n",
       "       [-1.0818642 , -1.09432701,  1.13831963, -0.63003477],\n",
       "       [-1.08265502, -1.09554354,  1.13795032, -0.63003477],\n",
       "       [-1.08374698, -1.09711096,  1.13708618, -0.63003477],\n",
       "       [-1.08360564, -1.09678534,  1.13765073, -0.63003477],\n",
       "       [-1.08279787, -1.09606186,  1.13778283, -0.63003477],\n",
       "       [-1.08146043, -1.09521792,  1.13832478, -0.63003477],\n",
       "       [-1.08314438, -1.09577729,  1.1376989 , -0.63003477],\n",
       "       [-1.08445597, -1.096565  ,  1.1369744 , -0.63003477],\n",
       "       [-1.08253116, -1.09534817,  1.13754233, -0.63003477],\n",
       "       [-1.08151136, -1.0942955 ,  1.13827323, -0.63003477],\n",
       "       [-1.08325986, -1.09644011,  1.13736319, -0.63003477],\n",
       "       [-1.08423404, -1.09676929,  1.13663908, -0.63003477]])"
      ]
     },
     "execution_count": 22,
     "metadata": {},
     "output_type": "execute_result"
    }
   ],
   "source": [
    "F3d"
   ]
  },
  {
   "cell_type": "code",
   "execution_count": 23,
   "metadata": {},
   "outputs": [],
   "source": [
    "df_feature3D = np.swapaxes(df_feature3D,0,2)\n",
    "df_feature3D = np.swapaxes(df_feature3D,1,2)\n",
    "df_feature3D = df_feature3D[..., np.newaxis]"
   ]
  },
  {
   "cell_type": "code",
   "execution_count": 24,
   "metadata": {},
   "outputs": [
    {
     "data": {
      "text/plain": [
       "array([[[[-0.58754699],\n",
       "         [ 3.05807519],\n",
       "         [ 0.69872824],\n",
       "         [ 2.07870531]],\n",
       "\n",
       "        [[-0.58145574],\n",
       "         [ 2.99509378],\n",
       "         [ 0.75774575],\n",
       "         [ 2.07870531]],\n",
       "\n",
       "        [[-0.59107524],\n",
       "         [ 3.02466836],\n",
       "         [ 0.72269623],\n",
       "         [ 2.07870531]],\n",
       "\n",
       "        ...,\n",
       "\n",
       "        [[-0.92104538],\n",
       "         [ 3.14574551],\n",
       "         [ 0.23209668],\n",
       "         [ 0.27287859]],\n",
       "\n",
       "        [[-0.91866235],\n",
       "         [ 3.14714076],\n",
       "         [ 0.23126907],\n",
       "         [ 0.27287859]],\n",
       "\n",
       "        [[-0.90930807],\n",
       "         [ 3.15256736],\n",
       "         [ 0.23283358],\n",
       "         [ 0.27287859]]],\n",
       "\n",
       "\n",
       "       [[[-0.63079638],\n",
       "         [ 3.06967162],\n",
       "         [ 0.66802186],\n",
       "         [ 1.82073006]],\n",
       "\n",
       "        [[-0.65623081],\n",
       "         [ 3.03358303],\n",
       "         [ 0.6929944 ],\n",
       "         [ 1.82073006]],\n",
       "\n",
       "        [[-0.61745949],\n",
       "         [ 3.04996268],\n",
       "         [ 0.70392346],\n",
       "         [ 1.82073006]],\n",
       "\n",
       "        ...,\n",
       "\n",
       "        [[-0.92642696],\n",
       "         [ 3.14347961],\n",
       "         [ 0.2498879 ],\n",
       "         [ 0.27287859]],\n",
       "\n",
       "        [[-0.92573315],\n",
       "         [ 3.14479812],\n",
       "         [ 0.24662261],\n",
       "         [ 0.27287859]],\n",
       "\n",
       "        [[-0.92884721],\n",
       "         [ 3.14333154],\n",
       "         [ 0.24502384],\n",
       "         [ 0.27287859]]],\n",
       "\n",
       "\n",
       "       [[[-0.63628057],\n",
       "         [ 3.0250707 ],\n",
       "         [ 0.71564591],\n",
       "         [ 1.94971769]],\n",
       "\n",
       "        [[-0.62761322],\n",
       "         [ 3.01867796],\n",
       "         [ 0.73035476],\n",
       "         [ 1.82073006]],\n",
       "\n",
       "        [[-0.57525196],\n",
       "         [ 3.01737999],\n",
       "         [ 0.71955327],\n",
       "         [ 1.82073006]],\n",
       "\n",
       "        ...,\n",
       "\n",
       "        [[-0.94121296],\n",
       "         [ 3.13656413],\n",
       "         [ 0.25052318],\n",
       "         [ 0.27287859]],\n",
       "\n",
       "        [[-0.93930714],\n",
       "         [ 3.14278647],\n",
       "         [ 0.25643917],\n",
       "         [ 0.14389097]],\n",
       "\n",
       "        [[-0.95057638],\n",
       "         [ 3.12620338],\n",
       "         [ 0.28615041],\n",
       "         [ 0.14389097]]],\n",
       "\n",
       "\n",
       "       ...,\n",
       "\n",
       "\n",
       "       [[[-1.08102654],\n",
       "         [-1.09954191],\n",
       "         [ 1.13738879],\n",
       "         [-0.75902239]],\n",
       "\n",
       "        [[-1.08085481],\n",
       "         [-1.10037689],\n",
       "         [ 1.13740422],\n",
       "         [-0.75902239]],\n",
       "\n",
       "        [[-1.07976284],\n",
       "         [-1.09760338],\n",
       "         [ 1.13807338],\n",
       "         [-0.75902239]],\n",
       "\n",
       "        ...,\n",
       "\n",
       "        [[-1.08372875],\n",
       "         [-1.0964053 ],\n",
       "         [ 1.13772148],\n",
       "         [-0.63003477]],\n",
       "\n",
       "        [[-1.0837789 ],\n",
       "         [-1.09655605],\n",
       "         [ 1.13742264],\n",
       "         [-0.63003477]],\n",
       "\n",
       "        [[-1.0818642 ],\n",
       "         [-1.09432701],\n",
       "         [ 1.13831963],\n",
       "         [-0.63003477]]],\n",
       "\n",
       "\n",
       "       [[[-1.08000604],\n",
       "         [-1.09858737],\n",
       "         [ 1.13778546],\n",
       "         [-0.63003477]],\n",
       "\n",
       "        [[-1.08078111],\n",
       "         [-1.09954548],\n",
       "         [ 1.13725818],\n",
       "         [-0.63003477]],\n",
       "\n",
       "        [[-1.08133812],\n",
       "         [-1.09961152],\n",
       "         [ 1.13684758],\n",
       "         [-0.63003477]],\n",
       "\n",
       "        ...,\n",
       "\n",
       "        [[-1.08360564],\n",
       "         [-1.09678534],\n",
       "         [ 1.13765073],\n",
       "         [-0.63003477]],\n",
       "\n",
       "        [[-1.08279787],\n",
       "         [-1.09606186],\n",
       "         [ 1.13778283],\n",
       "         [-0.63003477]],\n",
       "\n",
       "        [[-1.08146043],\n",
       "         [-1.09521792],\n",
       "         [ 1.13832478],\n",
       "         [-0.63003477]]],\n",
       "\n",
       "\n",
       "       [[[-1.08131455],\n",
       "         [-1.09931979],\n",
       "         [ 1.13702861],\n",
       "         [-0.63003477]],\n",
       "\n",
       "        [[-1.08223933],\n",
       "         [-1.09935726],\n",
       "         [ 1.13657961],\n",
       "         [-0.50104715]],\n",
       "\n",
       "        [[-1.08022032],\n",
       "         [-1.09885413],\n",
       "         [ 1.1373534 ],\n",
       "         [-0.50104715]],\n",
       "\n",
       "        ...,\n",
       "\n",
       "        [[-1.08253116],\n",
       "         [-1.09534817],\n",
       "         [ 1.13754233],\n",
       "         [-0.63003477]],\n",
       "\n",
       "        [[-1.08151136],\n",
       "         [-1.0942955 ],\n",
       "         [ 1.13827323],\n",
       "         [-0.63003477]],\n",
       "\n",
       "        [[-1.08325986],\n",
       "         [-1.09644011],\n",
       "         [ 1.13736319],\n",
       "         [-0.63003477]]]])"
      ]
     },
     "execution_count": 24,
     "metadata": {},
     "output_type": "execute_result"
    }
   ],
   "source": [
    "df_feature3D"
   ]
  },
  {
   "cell_type": "code",
   "execution_count": 25,
   "metadata": {},
   "outputs": [
    {
     "data": {
      "text/plain": [
       "array([0., 0., 0., ..., 0., 0., 0.])"
      ]
     },
     "execution_count": 25,
     "metadata": {},
     "output_type": "execute_result"
    }
   ],
   "source": [
    "df_label_new"
   ]
  },
  {
   "cell_type": "code",
   "execution_count": 26,
   "metadata": {},
   "outputs": [],
   "source": [
    "x_train, x_test, y_train, y_test = model_selection.train_test_split( df_feature, df_label, test_size = 0.3, random_state = 42)"
   ]
  },
  {
   "cell_type": "code",
   "execution_count": 27,
   "metadata": {},
   "outputs": [],
   "source": [
    "\n",
    "x3D_train, x3D_test, y3D_train, y3D_test = model_selection.train_test_split( df_feature3D , df_label_new,test_size = 0.33 ,random_state=2)"
   ]
  },
  {
   "cell_type": "code",
   "execution_count": 28,
   "metadata": {},
   "outputs": [],
   "source": [
    "# ------------ NN Architecture parameter -------------------------------\n",
    "Hidden_Layer_param = (30, 30, 30)\n",
    "mlp = MLPClassifier(hidden_layer_sizes = Hidden_Layer_param)\n",
    "# View NN model parameters"
   ]
  },
  {
   "cell_type": "code",
   "execution_count": 29,
   "metadata": {},
   "outputs": [
    {
     "data": {
      "text/html": [
       "<style>#sk-container-id-1 {color: black;background-color: white;}#sk-container-id-1 pre{padding: 0;}#sk-container-id-1 div.sk-toggleable {background-color: white;}#sk-container-id-1 label.sk-toggleable__label {cursor: pointer;display: block;width: 100%;margin-bottom: 0;padding: 0.3em;box-sizing: border-box;text-align: center;}#sk-container-id-1 label.sk-toggleable__label-arrow:before {content: \"▸\";float: left;margin-right: 0.25em;color: #696969;}#sk-container-id-1 label.sk-toggleable__label-arrow:hover:before {color: black;}#sk-container-id-1 div.sk-estimator:hover label.sk-toggleable__label-arrow:before {color: black;}#sk-container-id-1 div.sk-toggleable__content {max-height: 0;max-width: 0;overflow: hidden;text-align: left;background-color: #f0f8ff;}#sk-container-id-1 div.sk-toggleable__content pre {margin: 0.2em;color: black;border-radius: 0.25em;background-color: #f0f8ff;}#sk-container-id-1 input.sk-toggleable__control:checked~div.sk-toggleable__content {max-height: 200px;max-width: 100%;overflow: auto;}#sk-container-id-1 input.sk-toggleable__control:checked~label.sk-toggleable__label-arrow:before {content: \"▾\";}#sk-container-id-1 div.sk-estimator input.sk-toggleable__control:checked~label.sk-toggleable__label {background-color: #d4ebff;}#sk-container-id-1 div.sk-label input.sk-toggleable__control:checked~label.sk-toggleable__label {background-color: #d4ebff;}#sk-container-id-1 input.sk-hidden--visually {border: 0;clip: rect(1px 1px 1px 1px);clip: rect(1px, 1px, 1px, 1px);height: 1px;margin: -1px;overflow: hidden;padding: 0;position: absolute;width: 1px;}#sk-container-id-1 div.sk-estimator {font-family: monospace;background-color: #f0f8ff;border: 1px dotted black;border-radius: 0.25em;box-sizing: border-box;margin-bottom: 0.5em;}#sk-container-id-1 div.sk-estimator:hover {background-color: #d4ebff;}#sk-container-id-1 div.sk-parallel-item::after {content: \"\";width: 100%;border-bottom: 1px solid gray;flex-grow: 1;}#sk-container-id-1 div.sk-label:hover label.sk-toggleable__label {background-color: #d4ebff;}#sk-container-id-1 div.sk-serial::before {content: \"\";position: absolute;border-left: 1px solid gray;box-sizing: border-box;top: 0;bottom: 0;left: 50%;z-index: 0;}#sk-container-id-1 div.sk-serial {display: flex;flex-direction: column;align-items: center;background-color: white;padding-right: 0.2em;padding-left: 0.2em;position: relative;}#sk-container-id-1 div.sk-item {position: relative;z-index: 1;}#sk-container-id-1 div.sk-parallel {display: flex;align-items: stretch;justify-content: center;background-color: white;position: relative;}#sk-container-id-1 div.sk-item::before, #sk-container-id-1 div.sk-parallel-item::before {content: \"\";position: absolute;border-left: 1px solid gray;box-sizing: border-box;top: 0;bottom: 0;left: 50%;z-index: -1;}#sk-container-id-1 div.sk-parallel-item {display: flex;flex-direction: column;z-index: 1;position: relative;background-color: white;}#sk-container-id-1 div.sk-parallel-item:first-child::after {align-self: flex-end;width: 50%;}#sk-container-id-1 div.sk-parallel-item:last-child::after {align-self: flex-start;width: 50%;}#sk-container-id-1 div.sk-parallel-item:only-child::after {width: 0;}#sk-container-id-1 div.sk-dashed-wrapped {border: 1px dashed gray;margin: 0 0.4em 0.5em 0.4em;box-sizing: border-box;padding-bottom: 0.4em;background-color: white;}#sk-container-id-1 div.sk-label label {font-family: monospace;font-weight: bold;display: inline-block;line-height: 1.2em;}#sk-container-id-1 div.sk-label-container {text-align: center;}#sk-container-id-1 div.sk-container {/* jupyter's `normalize.less` sets `[hidden] { display: none; }` but bootstrap.min.css set `[hidden] { display: none !important; }` so we also need the `!important` here to be able to override the default hidden behavior on the sphinx rendered scikit-learn.org. See: https://github.com/scikit-learn/scikit-learn/issues/21755 */display: inline-block !important;position: relative;}#sk-container-id-1 div.sk-text-repr-fallback {display: none;}</style><div id=\"sk-container-id-1\" class=\"sk-top-container\"><div class=\"sk-text-repr-fallback\"><pre>MLPClassifier(hidden_layer_sizes=(30, 30, 30))</pre><b>In a Jupyter environment, please rerun this cell to show the HTML representation or trust the notebook. <br />On GitHub, the HTML representation is unable to render, please try loading this page with nbviewer.org.</b></div><div class=\"sk-container\" hidden><div class=\"sk-item\"><div class=\"sk-estimator sk-toggleable\"><input class=\"sk-toggleable__control sk-hidden--visually\" id=\"sk-estimator-id-1\" type=\"checkbox\" checked><label for=\"sk-estimator-id-1\" class=\"sk-toggleable__label sk-toggleable__label-arrow\">MLPClassifier</label><div class=\"sk-toggleable__content\"><pre>MLPClassifier(hidden_layer_sizes=(30, 30, 30))</pre></div></div></div></div></div>"
      ],
      "text/plain": [
       "MLPClassifier(hidden_layer_sizes=(30, 30, 30))"
      ]
     },
     "execution_count": 29,
     "metadata": {},
     "output_type": "execute_result"
    }
   ],
   "source": [
    "mlp"
   ]
  },
  {
   "cell_type": "code",
   "execution_count": 30,
   "metadata": {},
   "outputs": [
    {
     "name": "stderr",
     "output_type": "stream",
     "text": [
      "c:\\Users\\ACER\\AppData\\Local\\Programs\\Python\\Python310\\lib\\site-packages\\sklearn\\neural_network\\_multilayer_perceptron.py:1118: DataConversionWarning: A column-vector y was passed when a 1d array was expected. Please change the shape of y to (n_samples, ), for example using ravel().\n",
      "  y = column_or_1d(y, warn=True)\n",
      "c:\\Users\\ACER\\AppData\\Local\\Programs\\Python\\Python310\\lib\\site-packages\\sklearn\\neural_network\\_multilayer_perceptron.py:702: ConvergenceWarning: Stochastic Optimizer: Maximum iterations (200) reached and the optimization hasn't converged yet.\n",
      "  warnings.warn(\n"
     ]
    }
   ],
   "source": [
    "mlp.fit(x_train,y_train)\n",
    "smlp_pred = mlp.predict(x_test)"
   ]
  },
  {
   "cell_type": "code",
   "execution_count": 31,
   "metadata": {},
   "outputs": [
    {
     "data": {
      "text/html": [
       "<div>\n",
       "<style scoped>\n",
       "    .dataframe tbody tr th:only-of-type {\n",
       "        vertical-align: middle;\n",
       "    }\n",
       "\n",
       "    .dataframe tbody tr th {\n",
       "        vertical-align: top;\n",
       "    }\n",
       "\n",
       "    .dataframe thead th {\n",
       "        text-align: right;\n",
       "    }\n",
       "</style>\n",
       "<table border=\"1\" class=\"dataframe\">\n",
       "  <thead>\n",
       "    <tr style=\"text-align: right;\">\n",
       "      <th></th>\n",
       "      <th>sleep</th>\n",
       "    </tr>\n",
       "  </thead>\n",
       "  <tbody>\n",
       "    <tr>\n",
       "      <th>13205</th>\n",
       "      <td>2.0</td>\n",
       "    </tr>\n",
       "    <tr>\n",
       "      <th>6393</th>\n",
       "      <td>2.0</td>\n",
       "    </tr>\n",
       "    <tr>\n",
       "      <th>608</th>\n",
       "      <td>0.0</td>\n",
       "    </tr>\n",
       "    <tr>\n",
       "      <th>4745</th>\n",
       "      <td>5.0</td>\n",
       "    </tr>\n",
       "    <tr>\n",
       "      <th>12036</th>\n",
       "      <td>2.0</td>\n",
       "    </tr>\n",
       "    <tr>\n",
       "      <th>...</th>\n",
       "      <td>...</td>\n",
       "    </tr>\n",
       "    <tr>\n",
       "      <th>5148</th>\n",
       "      <td>5.0</td>\n",
       "    </tr>\n",
       "    <tr>\n",
       "      <th>1369</th>\n",
       "      <td>0.0</td>\n",
       "    </tr>\n",
       "    <tr>\n",
       "      <th>740</th>\n",
       "      <td>0.0</td>\n",
       "    </tr>\n",
       "    <tr>\n",
       "      <th>5527</th>\n",
       "      <td>5.0</td>\n",
       "    </tr>\n",
       "    <tr>\n",
       "      <th>1188</th>\n",
       "      <td>0.0</td>\n",
       "    </tr>\n",
       "  </tbody>\n",
       "</table>\n",
       "<p>5095 rows × 1 columns</p>\n",
       "</div>"
      ],
      "text/plain": [
       "       sleep\n",
       "13205    2.0\n",
       "6393     2.0\n",
       "608      0.0\n",
       "4745     5.0\n",
       "12036    2.0\n",
       "...      ...\n",
       "5148     5.0\n",
       "1369     0.0\n",
       "740      0.0\n",
       "5527     5.0\n",
       "1188     0.0\n",
       "\n",
       "[5095 rows x 1 columns]"
      ]
     },
     "execution_count": 31,
     "metadata": {},
     "output_type": "execute_result"
    }
   ],
   "source": [
    "y_test"
   ]
  },
  {
   "cell_type": "code",
   "execution_count": 32,
   "metadata": {},
   "outputs": [
    {
     "data": {
      "text/plain": [
       "2.0"
      ]
     },
     "execution_count": 32,
     "metadata": {},
     "output_type": "execute_result"
    }
   ],
   "source": [
    "smlp_pred[0]"
   ]
  },
  {
   "cell_type": "code",
   "execution_count": 33,
   "metadata": {},
   "outputs": [
    {
     "name": "stdout",
     "output_type": "stream",
     "text": [
      "Confusion Matrix of smlp_pred: \n",
      "[[ 686   21  112   29    8]\n",
      " [  16  131   88    2    8]\n",
      " [  14   25 1403   59   21]\n",
      " [   0    0   68 1391    0]\n",
      " [   1    3   64    0  945]]\n",
      "Classification Report of smlp_preds: \n",
      "              precision    recall  f1-score   support\n",
      "\n",
      "         0.0       0.96      0.80      0.87       856\n",
      "         1.0       0.73      0.53      0.62       245\n",
      "         2.0       0.81      0.92      0.86      1522\n",
      "         3.0       0.94      0.95      0.95      1459\n",
      "         5.0       0.96      0.93      0.95      1013\n",
      "\n",
      "    accuracy                           0.89      5095\n",
      "   macro avg       0.88      0.83      0.85      5095\n",
      "weighted avg       0.90      0.89      0.89      5095\n",
      "\n"
     ]
    }
   ],
   "source": [
    "print('Confusion Matrix of smlp_pred: ')\n",
    "print(confusion_matrix(y_test, smlp_pred))\n",
    "print('Classification Report of smlp_preds: ')\n",
    "print(classification_report(y_test, smlp_pred))"
   ]
  },
  {
   "cell_type": "code",
   "execution_count": 34,
   "metadata": {},
   "outputs": [],
   "source": [
    "# ------------ CNN Architecture parameter -------------------------------\n",
    "# Nlayer (CNN, dense), Nnode, Activation\n",
    "CNN_L1 = 16\n",
    "CNN_L2 = 64\n",
    "CNN_L3 = 128\n",
    "D_L1 = 512\n",
    "D_out = 6\n",
    "n_feature = 4\n",
    "Act_func = \"relu\"\n",
    "Ker_size = (3,3)\n",
    "Pooling_size = (2,1)\n",
    "Input_shape = (slidingW, n_feature, 1)"
   ]
  },
  {
   "cell_type": "code",
   "execution_count": 35,
   "metadata": {},
   "outputs": [
    {
     "name": "stdout",
     "output_type": "stream",
     "text": [
      "Model: \"sequential\"\n",
      "_________________________________________________________________\n",
      " Layer (type)                Output Shape              Param #   \n",
      "=================================================================\n",
      " conv2d (Conv2D)             (None, 100, 4, 16)        160       \n",
      "                                                                 \n",
      " max_pooling2d (MaxPooling2D  (None, 50, 4, 16)        0         \n",
      " )                                                               \n",
      "                                                                 \n",
      " dropout (Dropout)           (None, 50, 4, 16)         0         \n",
      "                                                                 \n",
      " conv2d_1 (Conv2D)           (None, 50, 4, 64)         9280      \n",
      "                                                                 \n",
      " max_pooling2d_1 (MaxPooling  (None, 25, 4, 64)        0         \n",
      " 2D)                                                             \n",
      "                                                                 \n",
      " dropout_1 (Dropout)         (None, 25, 4, 64)         0         \n",
      "                                                                 \n",
      " conv2d_2 (Conv2D)           (None, 25, 4, 128)        73856     \n",
      "                                                                 \n",
      " max_pooling2d_2 (MaxPooling  (None, 12, 4, 128)       0         \n",
      " 2D)                                                             \n",
      "                                                                 \n",
      " dropout_2 (Dropout)         (None, 12, 4, 128)        0         \n",
      "                                                                 \n",
      " flatten (Flatten)           (None, 6144)              0         \n",
      "                                                                 \n",
      " dense (Dense)               (None, 512)               3146240   \n",
      "                                                                 \n",
      " dense_1 (Dense)             (None, 6)                 3078      \n",
      "                                                                 \n",
      "=================================================================\n",
      "Total params: 3,232,614\n",
      "Trainable params: 3,232,614\n",
      "Non-trainable params: 0\n",
      "_________________________________________________________________\n"
     ]
    }
   ],
   "source": [
    "# ------------ Create CNN Model -------------------------------\n",
    "model = models.Sequential()\n",
    "model.add(layers.Conv2D(CNN_L1, kernel_size=Ker_size, activation=Act_func,input_shape=Input_shape,padding='same'))\n",
    "model.add(layers.MaxPooling2D(pool_size=Pooling_size))\n",
    "model.add(layers.Dropout(0.4))\n",
    "model.add(layers.Conv2D(CNN_L2, kernel_size=Ker_size, activation= Act_func, padding='same'))\n",
    "model.add(layers.MaxPooling2D(pool_size= Pooling_size))\n",
    "model.add(layers.Dropout(0.4))\n",
    "model.add(layers.Conv2D(CNN_L3, kernel_size=Ker_size, activation= Act_func,padding='same'))\n",
    "model.add(layers.MaxPooling2D(pool_size= Pooling_size))\n",
    "model.add(layers.Dropout(0.4))\n",
    "model.add(layers.Flatten())\n",
    "model.add(layers.Dense(D_L1 , activation= Act_func ))\n",
    "model.add(layers.Dense(D_out, activation='sigmoid'))\n",
    "model.compile(optimizer='adam', metrics=['accuracy'])\n",
    "model.summary()"
   ]
  },
  {
   "cell_type": "code",
   "execution_count": 36,
   "metadata": {},
   "outputs": [],
   "source": [
    "# ------------ Create Optimizer -------------------------------\n",
    "model.compile(optimizer='adam',loss= tf.keras.losses.SparseCategoricalCrossentropy(from_logits=True),metrics=[\"acc\"])"
   ]
  },
  {
   "cell_type": "code",
   "execution_count": 37,
   "metadata": {},
   "outputs": [
    {
     "name": "stdout",
     "output_type": "stream",
     "text": [
      "Epoch 1/50\n"
     ]
    },
    {
     "name": "stderr",
     "output_type": "stream",
     "text": [
      "c:\\Users\\ACER\\AppData\\Local\\Programs\\Python\\Python310\\lib\\site-packages\\keras\\backend.py:5582: UserWarning: \"`sparse_categorical_crossentropy` received `from_logits=True`, but the `output` argument was produced by a Softmax activation and thus does not represent logits. Was this intended?\n",
      "  output, from_logits = _get_logits(\n"
     ]
    },
    {
     "name": "stdout",
     "output_type": "stream",
     "text": [
      "36/36 [==============================] - 5s 107ms/step - loss: 1.1984 - acc: 0.4823 - val_loss: 0.9292 - val_acc: 0.6332\n",
      "Epoch 2/50\n",
      "36/36 [==============================] - 3s 87ms/step - loss: 0.6794 - acc: 0.7034 - val_loss: 0.6037 - val_acc: 0.7650\n",
      "Epoch 3/50\n",
      "36/36 [==============================] - 3s 90ms/step - loss: 0.5366 - acc: 0.7759 - val_loss: 0.4805 - val_acc: 0.8179\n",
      "Epoch 4/50\n",
      "36/36 [==============================] - 3s 88ms/step - loss: 0.4805 - acc: 0.7882 - val_loss: 0.4964 - val_acc: 0.8413\n",
      "Epoch 5/50\n",
      "36/36 [==============================] - 3s 87ms/step - loss: 0.4644 - acc: 0.7922 - val_loss: 0.4566 - val_acc: 0.8251\n",
      "Epoch 6/50\n",
      "36/36 [==============================] - 3s 95ms/step - loss: 0.4368 - acc: 0.8042 - val_loss: 0.5417 - val_acc: 0.7426\n",
      "Epoch 7/50\n",
      "36/36 [==============================] - 4s 115ms/step - loss: 0.4079 - acc: 0.8240 - val_loss: 0.3729 - val_acc: 0.8601\n",
      "Epoch 8/50\n",
      "36/36 [==============================] - 4s 110ms/step - loss: 0.3591 - acc: 0.8501 - val_loss: 0.3493 - val_acc: 0.8565\n",
      "Epoch 9/50\n",
      "36/36 [==============================] - 4s 108ms/step - loss: 0.3468 - acc: 0.8515 - val_loss: 0.3242 - val_acc: 0.8807\n",
      "Epoch 10/50\n",
      "36/36 [==============================] - 4s 110ms/step - loss: 0.3336 - acc: 0.8550 - val_loss: 0.3629 - val_acc: 0.8601\n",
      "Epoch 11/50\n",
      "36/36 [==============================] - 4s 100ms/step - loss: 0.3294 - acc: 0.8572 - val_loss: 0.3560 - val_acc: 0.8520\n",
      "Epoch 12/50\n",
      "36/36 [==============================] - 4s 100ms/step - loss: 0.3122 - acc: 0.8634 - val_loss: 0.3199 - val_acc: 0.8691\n",
      "Epoch 13/50\n",
      "36/36 [==============================] - 4s 105ms/step - loss: 0.3011 - acc: 0.8736 - val_loss: 0.3542 - val_acc: 0.8466\n",
      "Epoch 14/50\n",
      "36/36 [==============================] - 4s 110ms/step - loss: 0.2979 - acc: 0.8705 - val_loss: 0.2736 - val_acc: 0.8987\n",
      "Epoch 15/50\n",
      "36/36 [==============================] - 4s 104ms/step - loss: 0.2991 - acc: 0.8700 - val_loss: 0.2675 - val_acc: 0.8987\n",
      "Epoch 16/50\n",
      "36/36 [==============================] - 4s 102ms/step - loss: 0.2705 - acc: 0.8820 - val_loss: 0.3129 - val_acc: 0.8717\n",
      "Epoch 17/50\n",
      "36/36 [==============================] - 3s 95ms/step - loss: 0.2632 - acc: 0.8833 - val_loss: 0.2610 - val_acc: 0.8915\n",
      "Epoch 18/50\n",
      "36/36 [==============================] - 3s 96ms/step - loss: 0.2617 - acc: 0.8793 - val_loss: 0.2524 - val_acc: 0.9067\n",
      "Epoch 19/50\n",
      "36/36 [==============================] - 3s 97ms/step - loss: 0.2443 - acc: 0.8904 - val_loss: 0.2740 - val_acc: 0.8897\n",
      "Epoch 20/50\n",
      "36/36 [==============================] - 4s 104ms/step - loss: 0.2720 - acc: 0.8842 - val_loss: 0.2881 - val_acc: 0.9022\n",
      "Epoch 21/50\n",
      "36/36 [==============================] - 4s 112ms/step - loss: 0.2747 - acc: 0.8744 - val_loss: 0.2427 - val_acc: 0.9058\n",
      "Epoch 22/50\n",
      "36/36 [==============================] - 4s 113ms/step - loss: 0.2428 - acc: 0.8873 - val_loss: 0.2446 - val_acc: 0.9157\n",
      "Epoch 23/50\n",
      "36/36 [==============================] - 4s 105ms/step - loss: 0.2294 - acc: 0.8957 - val_loss: 0.2097 - val_acc: 0.9157\n",
      "Epoch 24/50\n",
      "36/36 [==============================] - 4s 100ms/step - loss: 0.2218 - acc: 0.9050 - val_loss: 0.2124 - val_acc: 0.9300\n",
      "Epoch 25/50\n",
      "36/36 [==============================] - 4s 101ms/step - loss: 0.2357 - acc: 0.8912 - val_loss: 0.2358 - val_acc: 0.9058\n",
      "Epoch 26/50\n",
      "36/36 [==============================] - 4s 99ms/step - loss: 0.2129 - acc: 0.9023 - val_loss: 0.2197 - val_acc: 0.9157\n",
      "Epoch 27/50\n",
      "36/36 [==============================] - 4s 100ms/step - loss: 0.2323 - acc: 0.9005 - val_loss: 0.2177 - val_acc: 0.9103\n",
      "Epoch 28/50\n",
      "36/36 [==============================] - 4s 101ms/step - loss: 0.2339 - acc: 0.8961 - val_loss: 0.2677 - val_acc: 0.8825\n",
      "Epoch 29/50\n",
      "36/36 [==============================] - 4s 100ms/step - loss: 0.2116 - acc: 0.9098 - val_loss: 0.2009 - val_acc: 0.9220\n",
      "Epoch 30/50\n",
      "36/36 [==============================] - 4s 99ms/step - loss: 0.1799 - acc: 0.9209 - val_loss: 0.2077 - val_acc: 0.9274\n",
      "Epoch 31/50\n",
      "36/36 [==============================] - 4s 106ms/step - loss: 0.1734 - acc: 0.9293 - val_loss: 0.2224 - val_acc: 0.9157\n",
      "Epoch 32/50\n",
      "36/36 [==============================] - 3s 97ms/step - loss: 0.2053 - acc: 0.9164 - val_loss: 0.2250 - val_acc: 0.8978\n",
      "Epoch 33/50\n",
      "36/36 [==============================] - 3s 97ms/step - loss: 0.1885 - acc: 0.9200 - val_loss: 0.1835 - val_acc: 0.9265\n",
      "Epoch 34/50\n",
      "36/36 [==============================] - 4s 103ms/step - loss: 0.1962 - acc: 0.9160 - val_loss: 0.2002 - val_acc: 0.9300\n",
      "Epoch 35/50\n",
      "36/36 [==============================] - 3s 97ms/step - loss: 0.1793 - acc: 0.9156 - val_loss: 0.1870 - val_acc: 0.9318\n",
      "Epoch 36/50\n",
      "36/36 [==============================] - 3s 97ms/step - loss: 0.1809 - acc: 0.9213 - val_loss: 0.2179 - val_acc: 0.9112\n",
      "Epoch 37/50\n",
      "36/36 [==============================] - 4s 101ms/step - loss: 0.1846 - acc: 0.9271 - val_loss: 0.1604 - val_acc: 0.9435\n",
      "Epoch 38/50\n",
      "36/36 [==============================] - 3s 97ms/step - loss: 0.1808 - acc: 0.9160 - val_loss: 0.2258 - val_acc: 0.9220\n",
      "Epoch 39/50\n",
      "36/36 [==============================] - 3s 95ms/step - loss: 0.1895 - acc: 0.9200 - val_loss: 0.2074 - val_acc: 0.9103\n",
      "Epoch 40/50\n",
      "36/36 [==============================] - 4s 100ms/step - loss: 0.1488 - acc: 0.9363 - val_loss: 0.1618 - val_acc: 0.9471\n",
      "Epoch 41/50\n",
      "36/36 [==============================] - 4s 98ms/step - loss: 0.1631 - acc: 0.9319 - val_loss: 0.1837 - val_acc: 0.9274\n",
      "Epoch 42/50\n",
      "36/36 [==============================] - 4s 100ms/step - loss: 0.1595 - acc: 0.9332 - val_loss: 0.1994 - val_acc: 0.9193\n",
      "Epoch 43/50\n",
      "36/36 [==============================] - 4s 101ms/step - loss: 0.1403 - acc: 0.9439 - val_loss: 0.1554 - val_acc: 0.9426\n",
      "Epoch 44/50\n",
      "36/36 [==============================] - 4s 99ms/step - loss: 0.1371 - acc: 0.9381 - val_loss: 0.1895 - val_acc: 0.9300\n",
      "Epoch 45/50\n",
      "36/36 [==============================] - 3s 97ms/step - loss: 0.1451 - acc: 0.9359 - val_loss: 0.1557 - val_acc: 0.9399\n",
      "Epoch 46/50\n",
      "36/36 [==============================] - 4s 100ms/step - loss: 0.1602 - acc: 0.9341 - val_loss: 0.1956 - val_acc: 0.9300\n",
      "Epoch 47/50\n",
      "36/36 [==============================] - 3s 97ms/step - loss: 0.1443 - acc: 0.9416 - val_loss: 0.1361 - val_acc: 0.9507\n",
      "Epoch 48/50\n",
      "36/36 [==============================] - 4s 97ms/step - loss: 0.1293 - acc: 0.9385 - val_loss: 0.1575 - val_acc: 0.9534\n",
      "Epoch 49/50\n",
      "36/36 [==============================] - 4s 100ms/step - loss: 0.1250 - acc: 0.9478 - val_loss: 0.1726 - val_acc: 0.9417\n",
      "Epoch 50/50\n",
      "36/36 [==============================] - 3s 97ms/step - loss: 0.1408 - acc: 0.9456 - val_loss: 0.1525 - val_acc: 0.9471\n"
     ]
    }
   ],
   "source": [
    "# ------ Train CNN using 3D feature--------------------------------------------\n",
    "history = model.fit(x3D_train, y3D_train, epochs=50, batch_size=64,validation_data=(x3D_test, y3D_test))"
   ]
  },
  {
   "cell_type": "code",
   "execution_count": 38,
   "metadata": {},
   "outputs": [
    {
     "name": "stdout",
     "output_type": "stream",
     "text": [
      "35/35 [==============================] - 0s 11ms/step\n"
     ]
    }
   ],
   "source": [
    "CNN_pred = model.predict(x3D_test)"
   ]
  },
  {
   "cell_type": "code",
   "execution_count": 39,
   "metadata": {},
   "outputs": [
    {
     "data": {
      "text/plain": [
       "array([3.6744893e-01, 2.8739641e-12, 9.7398603e-01, 9.9999982e-01,\n",
       "       5.4074039e-06, 7.7407385e-06], dtype=float32)"
      ]
     },
     "execution_count": 39,
     "metadata": {},
     "output_type": "execute_result"
    }
   ],
   "source": [
    "CNN_pred[0]"
   ]
  },
  {
   "cell_type": "code",
   "execution_count": 40,
   "metadata": {},
   "outputs": [
    {
     "data": {
      "text/plain": [
       "3.0"
      ]
     },
     "execution_count": 40,
     "metadata": {},
     "output_type": "execute_result"
    }
   ],
   "source": [
    "y3D_test[0]"
   ]
  },
  {
   "cell_type": "code",
   "execution_count": 41,
   "metadata": {},
   "outputs": [
    {
     "name": "stdout",
     "output_type": "stream",
     "text": [
      "continuous-multioutput\n"
     ]
    }
   ],
   "source": [
    "print(utils.multiclass.type_of_target(CNN_pred))"
   ]
  },
  {
   "cell_type": "code",
   "execution_count": 46,
   "metadata": {},
   "outputs": [
    {
     "name": "stdout",
     "output_type": "stream",
     "text": [
      "35/35 [==============================] - 1s 16ms/step\n"
     ]
    }
   ],
   "source": [
    "CNN_pred = np.argmax(model.predict(x3D_test),axis=1)"
   ]
  },
  {
   "cell_type": "code",
   "execution_count": 47,
   "metadata": {},
   "outputs": [
    {
     "name": "stdout",
     "output_type": "stream",
     "text": [
      "multiclass\n"
     ]
    }
   ],
   "source": [
    "print(utils.multiclass.type_of_target(CNN_pred))"
   ]
  },
  {
   "cell_type": "code",
   "execution_count": 48,
   "metadata": {},
   "outputs": [
    {
     "name": "stdout",
     "output_type": "stream",
     "text": [
      "Confusion Matrix of smlp_pred: \n",
      "[[171   4   9   0   0]\n",
      " [  4  44   8   0   1]\n",
      " [  2   4 311  12   8]\n",
      " [  0   0   7 318   0]\n",
      " [  0   0   0   0 212]]\n",
      "Classification Report of smlp_preds: \n",
      "              precision    recall  f1-score   support\n",
      "\n",
      "         0.0       0.97      0.93      0.95       184\n",
      "         1.0       0.85      0.77      0.81        57\n",
      "         2.0       0.93      0.92      0.93       337\n",
      "         3.0       0.96      0.98      0.97       325\n",
      "         5.0       0.96      1.00      0.98       212\n",
      "\n",
      "    accuracy                           0.95      1115\n",
      "   macro avg       0.93      0.92      0.93      1115\n",
      "weighted avg       0.95      0.95      0.95      1115\n",
      "\n"
     ]
    }
   ],
   "source": [
    "print('Confusion Matrix of smlp_pred: ')\n",
    "print(confusion_matrix(y3D_test, CNN_pred))\n",
    "print('Classification Report of smlp_preds: ')\n",
    "print(classification_report(y3D_test, CNN_pred))"
   ]
  },
  {
   "cell_type": "code",
   "execution_count": 49,
   "metadata": {},
   "outputs": [
    {
     "data": {
      "image/png": "[encoded data removed]",
      "text/plain": [
       "<Figure size 640x480 with 1 Axes>"
      ]
     },
     "metadata": {},
     "output_type": "display_data"
    }
   ],
   "source": [
    "# ------ View History Graph -------------------------------------------\n",
    "# View Accuracy Graph\n",
    "# summarize history for accuracy\n",
    "plt.plot(history.history['acc'])\n",
    "plt.plot(history.history['val_acc'])\n",
    "plt.show()\n"
   ]
  },
  {
   "cell_type": "code",
   "execution_count": 50,
   "metadata": {},
   "outputs": [
    {
     "data": {
      "image/png": "[encoded data removed]",
      "text/plain": [
       "<Figure size 640x480 with 1 Axes>"
      ]
     },
     "metadata": {},
     "output_type": "display_data"
    }
   ],
   "source": [
    "# View Loss Graph\n",
    "# summarize history for loss\n",
    "plt.plot(history.history['loss'])\n",
    "plt.plot(history.history['val_loss'])\n",
    "plt.show()"
   ]
  }
 ],
 "metadata": {
  "kernelspec": {
   "display_name": "Python 3.10.8 64-bit",
   "language": "python",
   "name": "python3"
  },
  "language_info": {
   "codemirror_mode": {
    "name": "ipython",
    "version": 3
   },
   "file_extension": ".py",
   "mimetype": "text/x-python",
   "name": "python",
   "nbconvert_exporter": "python",
   "pygments_lexer": "ipython3",
   "version": "3.10.8"
  },
  "orig_nbformat": 4,
  "vscode": {
   "interpreter": {
    "hash": "0d72b21489300652f2337cd7f80c57cc00ce6bbc92cf98d285c178d0a8ced433"
   }
  }
 },
 "nbformat": 4,
 "nbformat_minor": 2
}
