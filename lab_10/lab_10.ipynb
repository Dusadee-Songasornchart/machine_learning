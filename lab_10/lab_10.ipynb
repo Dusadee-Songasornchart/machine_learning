{
 "cells": [
  {
   "cell_type": "code",
   "execution_count": 280,
   "metadata": {},
   "outputs": [],
   "source": [
    "import numpy as np\n",
    "import pandas as pd\n",
    "import matplotlib.pyplot as plt\n",
    "from sklearn import preprocessing\n",
    "from sklearn import model_selection\n",
    "from sklearn.preprocessing import StandardScaler\n",
    "from sklearn.model_selection import train_test_split, cross_val_score, StratifiedKFold\n",
    "from sklearn.svm import SVC\n",
    "from sklearn import metrics\n",
    "from sklearn.model_selection import GridSearchCV, RandomizedSearchCV \n",
    "from sklearn.metrics import accuracy_score, classification_report, confusion_matrix\n",
    "import glob\n",
    "from scipy import stats\n",
    "import datetime as dt\n",
    "import warnings\n",
    "warnings.filterwarnings('ignore')\n",
    "import tensorflow as tf\n",
    "from tensorflow import keras\n",
    "from keras import layers,Sequential\n",
    "from keras.layers import LSTM,Dropout,Dense"
   ]
  },
  {
   "cell_type": "code",
   "execution_count": 281,
   "metadata": {},
   "outputs": [],
   "source": [
    "# Load data from csv 3 files\n",
    "# acceleration.txt, heartrate.txt, labeled_sleep.txt\n",
    "ACC = pd.read_csv('acceleration.txt', sep = ' ',names=['timedelta', 'accX', 'accY', 'accZ'])\n",
    "HeartR = pd.read_csv('heartrate.txt', sep = ',',names=['timedelta', 'heartrate'])\n",
    "SleepL = pd.read_csv('labeled_sleep.txt', sep = ' ',names=['timedelta', 'sleep'])"
   ]
  },
  {
   "cell_type": "code",
   "execution_count": 282,
   "metadata": {},
   "outputs": [],
   "source": [
    "# Check ‘timedelta’ max(), min() of ACC, HeartR, SleepL (ช่วงเวลาที่มีข้อมูลใกล้กัน)\n",
    "ACC_max_date = ACC['timedelta'].max()\n",
    "ACC_min_date = ACC['timedelta'].min()\n",
    "HeartR_max_date = HeartR['timedelta'].max()\n",
    "HeartR_min_date = HeartR['timedelta'].min()\n",
    "SleepL_max_date = SleepL['timedelta'].max()\n",
    "SleepL_min_date = SleepL['timedelta'].min()"
   ]
  },
  {
   "cell_type": "code",
   "execution_count": 283,
   "metadata": {},
   "outputs": [
    {
     "name": "stdout",
     "output_type": "stream",
     "text": [
      "ACC start:  -124489.16105 ACC end:  17643.046417\n",
      "HeartR start:  -556410.36066 HeartR end:  16980.47229\n",
      "SleepL start:  0 SleepL end:  16980\n"
     ]
    }
   ],
   "source": [
    "print('ACC start: ',ACC_min_date,'ACC end: ',ACC_max_date)\n",
    "print('HeartR start: ',HeartR_min_date,'HeartR end: ',HeartR_max_date)\n",
    "print('SleepL start: ',SleepL_min_date,'SleepL end: ',SleepL_max_date)"
   ]
  },
  {
   "cell_type": "code",
   "execution_count": 284,
   "metadata": {},
   "outputs": [],
   "source": [
    "ACC_new = ACC[(ACC[\"timedelta\"]> ACC_min_date) & (ACC[\"timedelta\"] < ACC_max_date) & (ACC[\"timedelta\"]> HeartR_min_date) & (ACC[\"timedelta\"] < HeartR_max_date) &(ACC[\"timedelta\"]> SleepL_min_date) & (ACC[\"timedelta\"] < SleepL_max_date)]\n",
    "HeartR_new = HeartR[(HeartR[\"timedelta\"]> ACC_min_date) & (HeartR[\"timedelta\"] < ACC_max_date) & (HeartR[\"timedelta\"]> HeartR_min_date) & (HeartR[\"timedelta\"] < HeartR_max_date) &(HeartR[\"timedelta\"]> SleepL_min_date) & (HeartR[\"timedelta\"] < SleepL_max_date)]\n",
    "SleepL_new = SleepL[(SleepL[\"timedelta\"]> ACC_min_date) & (SleepL[\"timedelta\"] < ACC_max_date) & (SleepL[\"timedelta\"]> HeartR_min_date) & (SleepL[\"timedelta\"] < HeartR_max_date) &(SleepL[\"timedelta\"]> SleepL_min_date) & (SleepL[\"timedelta\"] < SleepL_max_date)]"
   ]
  },
  {
   "cell_type": "code",
   "execution_count": 285,
   "metadata": {},
   "outputs": [],
   "source": [
    "# Convert to datetime and round to second,\n",
    "ACC_new['timedelta'] = pd.DataFrame(pd.to_timedelta(ACC_new['timedelta'], 'seconds').round('1s'))\n",
    "HeartR_new['timedelta'] = pd.DataFrame(pd.to_timedelta(HeartR_new['timedelta'], 'seconds').round('1s'))\n",
    "SleepL_new['timedelta'] = pd.DataFrame(pd.to_timedelta(SleepL_new['timedelta'], 'seconds').round('1s'))"
   ]
  },
  {
   "cell_type": "code",
   "execution_count": 286,
   "metadata": {},
   "outputs": [],
   "source": [
    "# Average rounding duplicated time\n",
    "df_acc_X = ACC_new.groupby('timedelta')['accX'].mean()\n",
    "df_acc_Y = ACC_new.groupby('timedelta')['accY'].mean()\n",
    "df_acc_Z = ACC_new.groupby('timedelta')['accZ'].mean()"
   ]
  },
  {
   "cell_type": "code",
   "execution_count": 287,
   "metadata": {},
   "outputs": [],
   "source": [
    "ACC_new_2 = pd.concat([df_acc_X, df_acc_Y, df_acc_Z], axis=1).reset_index()"
   ]
  },
  {
   "cell_type": "code",
   "execution_count": 288,
   "metadata": {},
   "outputs": [],
   "source": [
    "ACC_new_2['timedelta'] = ACC_new_2['timedelta'] - ACC_new_2['timedelta'].min()"
   ]
  },
  {
   "cell_type": "code",
   "execution_count": 289,
   "metadata": {},
   "outputs": [
    {
     "data": {
      "text/html": [
       "<div>\n",
       "<style scoped>\n",
       "    .dataframe tbody tr th:only-of-type {\n",
       "        vertical-align: middle;\n",
       "    }\n",
       "\n",
       "    .dataframe tbody tr th {\n",
       "        vertical-align: top;\n",
       "    }\n",
       "\n",
       "    .dataframe thead th {\n",
       "        text-align: right;\n",
       "    }\n",
       "</style>\n",
       "<table border=\"1\" class=\"dataframe\">\n",
       "  <thead>\n",
       "    <tr style=\"text-align: right;\">\n",
       "      <th></th>\n",
       "      <th>heartrate</th>\n",
       "    </tr>\n",
       "    <tr>\n",
       "      <th>timedelta</th>\n",
       "      <th></th>\n",
       "    </tr>\n",
       "  </thead>\n",
       "  <tbody>\n",
       "    <tr>\n",
       "      <th>0 days 00:00:08</th>\n",
       "      <td>97.0</td>\n",
       "    </tr>\n",
       "    <tr>\n",
       "      <th>0 days 00:00:09</th>\n",
       "      <td>97.0</td>\n",
       "    </tr>\n",
       "    <tr>\n",
       "      <th>0 days 00:00:10</th>\n",
       "      <td>97.0</td>\n",
       "    </tr>\n",
       "    <tr>\n",
       "      <th>0 days 00:00:11</th>\n",
       "      <td>97.0</td>\n",
       "    </tr>\n",
       "    <tr>\n",
       "      <th>0 days 00:00:12</th>\n",
       "      <td>97.0</td>\n",
       "    </tr>\n",
       "    <tr>\n",
       "      <th>...</th>\n",
       "      <td>...</td>\n",
       "    </tr>\n",
       "    <tr>\n",
       "      <th>0 days 04:42:51</th>\n",
       "      <td>75.0</td>\n",
       "    </tr>\n",
       "    <tr>\n",
       "      <th>0 days 04:42:52</th>\n",
       "      <td>75.0</td>\n",
       "    </tr>\n",
       "    <tr>\n",
       "      <th>0 days 04:42:53</th>\n",
       "      <td>75.0</td>\n",
       "    </tr>\n",
       "    <tr>\n",
       "      <th>0 days 04:42:54</th>\n",
       "      <td>75.0</td>\n",
       "    </tr>\n",
       "    <tr>\n",
       "      <th>0 days 04:42:55</th>\n",
       "      <td>76.0</td>\n",
       "    </tr>\n",
       "  </tbody>\n",
       "</table>\n",
       "<p>16968 rows × 1 columns</p>\n",
       "</div>"
      ],
      "text/plain": [
       "                 heartrate\n",
       "timedelta                 \n",
       "0 days 00:00:08       97.0\n",
       "0 days 00:00:09       97.0\n",
       "0 days 00:00:10       97.0\n",
       "0 days 00:00:11       97.0\n",
       "0 days 00:00:12       97.0\n",
       "...                    ...\n",
       "0 days 04:42:51       75.0\n",
       "0 days 04:42:52       75.0\n",
       "0 days 04:42:53       75.0\n",
       "0 days 04:42:54       75.0\n",
       "0 days 04:42:55       76.0\n",
       "\n",
       "[16968 rows x 1 columns]"
      ]
     },
     "execution_count": 289,
     "metadata": {},
     "output_type": "execute_result"
    }
   ],
   "source": [
    "df_heartrate = HeartR_new.groupby('timedelta')['heartrate'].mean()\n",
    "resample_rule = '1s'\n",
    "HeartR_new2 = HeartR_new.set_index('timedelta').resample(resample_rule,).median().ffill()\n",
    "HeartR_new2"
   ]
  },
  {
   "cell_type": "code",
   "execution_count": 290,
   "metadata": {},
   "outputs": [
    {
     "data": {
      "text/html": [
       "<div>\n",
       "<style scoped>\n",
       "    .dataframe tbody tr th:only-of-type {\n",
       "        vertical-align: middle;\n",
       "    }\n",
       "\n",
       "    .dataframe tbody tr th {\n",
       "        vertical-align: top;\n",
       "    }\n",
       "\n",
       "    .dataframe thead th {\n",
       "        text-align: right;\n",
       "    }\n",
       "</style>\n",
       "<table border=\"1\" class=\"dataframe\">\n",
       "  <thead>\n",
       "    <tr style=\"text-align: right;\">\n",
       "      <th></th>\n",
       "      <th>timedelta</th>\n",
       "      <th>heartrate</th>\n",
       "    </tr>\n",
       "  </thead>\n",
       "  <tbody>\n",
       "    <tr>\n",
       "      <th>0</th>\n",
       "      <td>0 days 00:00:00</td>\n",
       "      <td>97.0</td>\n",
       "    </tr>\n",
       "    <tr>\n",
       "      <th>1</th>\n",
       "      <td>0 days 00:00:01</td>\n",
       "      <td>97.0</td>\n",
       "    </tr>\n",
       "    <tr>\n",
       "      <th>2</th>\n",
       "      <td>0 days 00:00:02</td>\n",
       "      <td>97.0</td>\n",
       "    </tr>\n",
       "    <tr>\n",
       "      <th>3</th>\n",
       "      <td>0 days 00:00:03</td>\n",
       "      <td>97.0</td>\n",
       "    </tr>\n",
       "    <tr>\n",
       "      <th>4</th>\n",
       "      <td>0 days 00:00:04</td>\n",
       "      <td>97.0</td>\n",
       "    </tr>\n",
       "    <tr>\n",
       "      <th>...</th>\n",
       "      <td>...</td>\n",
       "      <td>...</td>\n",
       "    </tr>\n",
       "    <tr>\n",
       "      <th>16963</th>\n",
       "      <td>0 days 04:42:43</td>\n",
       "      <td>75.0</td>\n",
       "    </tr>\n",
       "    <tr>\n",
       "      <th>16964</th>\n",
       "      <td>0 days 04:42:44</td>\n",
       "      <td>75.0</td>\n",
       "    </tr>\n",
       "    <tr>\n",
       "      <th>16965</th>\n",
       "      <td>0 days 04:42:45</td>\n",
       "      <td>75.0</td>\n",
       "    </tr>\n",
       "    <tr>\n",
       "      <th>16966</th>\n",
       "      <td>0 days 04:42:46</td>\n",
       "      <td>75.0</td>\n",
       "    </tr>\n",
       "    <tr>\n",
       "      <th>16967</th>\n",
       "      <td>0 days 04:42:47</td>\n",
       "      <td>76.0</td>\n",
       "    </tr>\n",
       "  </tbody>\n",
       "</table>\n",
       "<p>16968 rows × 2 columns</p>\n",
       "</div>"
      ],
      "text/plain": [
       "            timedelta  heartrate\n",
       "0     0 days 00:00:00       97.0\n",
       "1     0 days 00:00:01       97.0\n",
       "2     0 days 00:00:02       97.0\n",
       "3     0 days 00:00:03       97.0\n",
       "4     0 days 00:00:04       97.0\n",
       "...               ...        ...\n",
       "16963 0 days 04:42:43       75.0\n",
       "16964 0 days 04:42:44       75.0\n",
       "16965 0 days 04:42:45       75.0\n",
       "16966 0 days 04:42:46       75.0\n",
       "16967 0 days 04:42:47       76.0\n",
       "\n",
       "[16968 rows x 2 columns]"
      ]
     },
     "execution_count": 290,
     "metadata": {},
     "output_type": "execute_result"
    }
   ],
   "source": [
    "#Resampling every 1s with median with ffill\n",
    "df_heartrate = HeartR_new.groupby('timedelta')['heartrate'].mean()\n",
    "\n",
    "resample_rule = '1s'\n",
    "HeartR_new2 = HeartR_new.set_index('timedelta').resample(resample_rule,).median().ffill()\n",
    "HeartR_new_2 = pd.concat([HeartR_new2], axis=1).reset_index()\n",
    "HeartR_new_2['timedelta'] = HeartR_new_2['timedelta']-HeartR_new_2['timedelta'].min()\n",
    "HeartR_new_2"
   ]
  },
  {
   "cell_type": "code",
   "execution_count": 291,
   "metadata": {},
   "outputs": [
    {
     "data": {
      "text/html": [
       "<div>\n",
       "<style scoped>\n",
       "    .dataframe tbody tr th:only-of-type {\n",
       "        vertical-align: middle;\n",
       "    }\n",
       "\n",
       "    .dataframe tbody tr th {\n",
       "        vertical-align: top;\n",
       "    }\n",
       "\n",
       "    .dataframe thead th {\n",
       "        text-align: right;\n",
       "    }\n",
       "</style>\n",
       "<table border=\"1\" class=\"dataframe\">\n",
       "  <thead>\n",
       "    <tr style=\"text-align: right;\">\n",
       "      <th></th>\n",
       "      <th>sleep</th>\n",
       "    </tr>\n",
       "    <tr>\n",
       "      <th>timedelta</th>\n",
       "      <th></th>\n",
       "    </tr>\n",
       "  </thead>\n",
       "  <tbody>\n",
       "    <tr>\n",
       "      <th>0 days 00:00:30</th>\n",
       "      <td>-1.0</td>\n",
       "    </tr>\n",
       "    <tr>\n",
       "      <th>0 days 00:00:31</th>\n",
       "      <td>-1.0</td>\n",
       "    </tr>\n",
       "    <tr>\n",
       "      <th>0 days 00:00:32</th>\n",
       "      <td>-1.0</td>\n",
       "    </tr>\n",
       "    <tr>\n",
       "      <th>0 days 00:00:33</th>\n",
       "      <td>-1.0</td>\n",
       "    </tr>\n",
       "    <tr>\n",
       "      <th>0 days 00:00:34</th>\n",
       "      <td>-1.0</td>\n",
       "    </tr>\n",
       "    <tr>\n",
       "      <th>...</th>\n",
       "      <td>...</td>\n",
       "    </tr>\n",
       "    <tr>\n",
       "      <th>0 days 04:42:26</th>\n",
       "      <td>0.0</td>\n",
       "    </tr>\n",
       "    <tr>\n",
       "      <th>0 days 04:42:27</th>\n",
       "      <td>0.0</td>\n",
       "    </tr>\n",
       "    <tr>\n",
       "      <th>0 days 04:42:28</th>\n",
       "      <td>0.0</td>\n",
       "    </tr>\n",
       "    <tr>\n",
       "      <th>0 days 04:42:29</th>\n",
       "      <td>0.0</td>\n",
       "    </tr>\n",
       "    <tr>\n",
       "      <th>0 days 04:42:30</th>\n",
       "      <td>0.0</td>\n",
       "    </tr>\n",
       "  </tbody>\n",
       "</table>\n",
       "<p>16921 rows × 1 columns</p>\n",
       "</div>"
      ],
      "text/plain": [
       "                 sleep\n",
       "timedelta             \n",
       "0 days 00:00:30   -1.0\n",
       "0 days 00:00:31   -1.0\n",
       "0 days 00:00:32   -1.0\n",
       "0 days 00:00:33   -1.0\n",
       "0 days 00:00:34   -1.0\n",
       "...                ...\n",
       "0 days 04:42:26    0.0\n",
       "0 days 04:42:27    0.0\n",
       "0 days 04:42:28    0.0\n",
       "0 days 04:42:29    0.0\n",
       "0 days 04:42:30    0.0\n",
       "\n",
       "[16921 rows x 1 columns]"
      ]
     },
     "execution_count": 291,
     "metadata": {},
     "output_type": "execute_result"
    }
   ],
   "source": [
    "resample_rule = '1s'\n",
    "SleepL_new2 = SleepL_new.set_index('timedelta').resample(resample_rule,).median().ffill()\n",
    "SleepL_new2"
   ]
  },
  {
   "cell_type": "code",
   "execution_count": 292,
   "metadata": {},
   "outputs": [
    {
     "data": {
      "text/html": [
       "<div>\n",
       "<style scoped>\n",
       "    .dataframe tbody tr th:only-of-type {\n",
       "        vertical-align: middle;\n",
       "    }\n",
       "\n",
       "    .dataframe tbody tr th {\n",
       "        vertical-align: top;\n",
       "    }\n",
       "\n",
       "    .dataframe thead th {\n",
       "        text-align: right;\n",
       "    }\n",
       "</style>\n",
       "<table border=\"1\" class=\"dataframe\">\n",
       "  <thead>\n",
       "    <tr style=\"text-align: right;\">\n",
       "      <th></th>\n",
       "      <th>timedelta</th>\n",
       "      <th>sleep</th>\n",
       "    </tr>\n",
       "  </thead>\n",
       "  <tbody>\n",
       "    <tr>\n",
       "      <th>0</th>\n",
       "      <td>0 days 00:00:00</td>\n",
       "      <td>-1.0</td>\n",
       "    </tr>\n",
       "    <tr>\n",
       "      <th>1</th>\n",
       "      <td>0 days 00:00:01</td>\n",
       "      <td>-1.0</td>\n",
       "    </tr>\n",
       "    <tr>\n",
       "      <th>2</th>\n",
       "      <td>0 days 00:00:02</td>\n",
       "      <td>-1.0</td>\n",
       "    </tr>\n",
       "    <tr>\n",
       "      <th>3</th>\n",
       "      <td>0 days 00:00:03</td>\n",
       "      <td>-1.0</td>\n",
       "    </tr>\n",
       "    <tr>\n",
       "      <th>4</th>\n",
       "      <td>0 days 00:00:04</td>\n",
       "      <td>-1.0</td>\n",
       "    </tr>\n",
       "    <tr>\n",
       "      <th>...</th>\n",
       "      <td>...</td>\n",
       "      <td>...</td>\n",
       "    </tr>\n",
       "    <tr>\n",
       "      <th>16916</th>\n",
       "      <td>0 days 04:41:56</td>\n",
       "      <td>0.0</td>\n",
       "    </tr>\n",
       "    <tr>\n",
       "      <th>16917</th>\n",
       "      <td>0 days 04:41:57</td>\n",
       "      <td>0.0</td>\n",
       "    </tr>\n",
       "    <tr>\n",
       "      <th>16918</th>\n",
       "      <td>0 days 04:41:58</td>\n",
       "      <td>0.0</td>\n",
       "    </tr>\n",
       "    <tr>\n",
       "      <th>16919</th>\n",
       "      <td>0 days 04:41:59</td>\n",
       "      <td>0.0</td>\n",
       "    </tr>\n",
       "    <tr>\n",
       "      <th>16920</th>\n",
       "      <td>0 days 04:42:00</td>\n",
       "      <td>0.0</td>\n",
       "    </tr>\n",
       "  </tbody>\n",
       "</table>\n",
       "<p>16921 rows × 2 columns</p>\n",
       "</div>"
      ],
      "text/plain": [
       "            timedelta  sleep\n",
       "0     0 days 00:00:00   -1.0\n",
       "1     0 days 00:00:01   -1.0\n",
       "2     0 days 00:00:02   -1.0\n",
       "3     0 days 00:00:03   -1.0\n",
       "4     0 days 00:00:04   -1.0\n",
       "...               ...    ...\n",
       "16916 0 days 04:41:56    0.0\n",
       "16917 0 days 04:41:57    0.0\n",
       "16918 0 days 04:41:58    0.0\n",
       "16919 0 days 04:41:59    0.0\n",
       "16920 0 days 04:42:00    0.0\n",
       "\n",
       "[16921 rows x 2 columns]"
      ]
     },
     "execution_count": 292,
     "metadata": {},
     "output_type": "execute_result"
    }
   ],
   "source": [
    "df_SleepL = SleepL_new.groupby('timedelta')['sleep'].mean()\n",
    "resample_rule = '1s'\n",
    "SleepL_new2 = SleepL_new.set_index('timedelta').resample(resample_rule,).median().ffill()\n",
    "SleepL_new_2 = pd.concat([SleepL_new2], axis=1).reset_index()\n",
    "SleepL_new_2['timedelta'] = SleepL_new_2['timedelta']-SleepL_new_2['timedelta'].min()\n",
    "SleepL_new_2"
   ]
  },
  {
   "cell_type": "code",
   "execution_count": 293,
   "metadata": {},
   "outputs": [
    {
     "data": {
      "text/html": [
       "<div>\n",
       "<style scoped>\n",
       "    .dataframe tbody tr th:only-of-type {\n",
       "        vertical-align: middle;\n",
       "    }\n",
       "\n",
       "    .dataframe tbody tr th {\n",
       "        vertical-align: top;\n",
       "    }\n",
       "\n",
       "    .dataframe thead th {\n",
       "        text-align: right;\n",
       "    }\n",
       "</style>\n",
       "<table border=\"1\" class=\"dataframe\">\n",
       "  <thead>\n",
       "    <tr style=\"text-align: right;\">\n",
       "      <th></th>\n",
       "      <th>timedelta</th>\n",
       "      <th>accX</th>\n",
       "      <th>accY</th>\n",
       "      <th>accZ</th>\n",
       "      <th>heartrate</th>\n",
       "      <th>sleep</th>\n",
       "    </tr>\n",
       "  </thead>\n",
       "  <tbody>\n",
       "    <tr>\n",
       "      <th>0</th>\n",
       "      <td>0 days 00:00:00</td>\n",
       "      <td>-0.243203</td>\n",
       "      <td>0.895372</td>\n",
       "      <td>0.367591</td>\n",
       "      <td>97.0</td>\n",
       "      <td>-1.0</td>\n",
       "    </tr>\n",
       "    <tr>\n",
       "      <th>1</th>\n",
       "      <td>0 days 00:00:01</td>\n",
       "      <td>-0.240757</td>\n",
       "      <td>0.873826</td>\n",
       "      <td>0.415446</td>\n",
       "      <td>97.0</td>\n",
       "      <td>-1.0</td>\n",
       "    </tr>\n",
       "    <tr>\n",
       "      <th>2</th>\n",
       "      <td>0 days 00:00:02</td>\n",
       "      <td>-0.244620</td>\n",
       "      <td>0.883943</td>\n",
       "      <td>0.387026</td>\n",
       "      <td>97.0</td>\n",
       "      <td>-1.0</td>\n",
       "    </tr>\n",
       "    <tr>\n",
       "      <th>3</th>\n",
       "      <td>0 days 00:00:03</td>\n",
       "      <td>-0.248036</td>\n",
       "      <td>0.902427</td>\n",
       "      <td>0.347812</td>\n",
       "      <td>97.0</td>\n",
       "      <td>-1.0</td>\n",
       "    </tr>\n",
       "    <tr>\n",
       "      <th>4</th>\n",
       "      <td>0 days 00:00:04</td>\n",
       "      <td>-0.241778</td>\n",
       "      <td>0.912946</td>\n",
       "      <td>0.321502</td>\n",
       "      <td>97.0</td>\n",
       "      <td>-1.0</td>\n",
       "    </tr>\n",
       "    <tr>\n",
       "      <th>...</th>\n",
       "      <td>...</td>\n",
       "      <td>...</td>\n",
       "      <td>...</td>\n",
       "      <td>...</td>\n",
       "      <td>...</td>\n",
       "      <td>...</td>\n",
       "    </tr>\n",
       "    <tr>\n",
       "      <th>16976</th>\n",
       "      <td>0 days 04:42:56</td>\n",
       "      <td>-0.442763</td>\n",
       "      <td>-0.525892</td>\n",
       "      <td>0.722950</td>\n",
       "      <td>76.0</td>\n",
       "      <td>0.0</td>\n",
       "    </tr>\n",
       "    <tr>\n",
       "      <th>16977</th>\n",
       "      <td>0 days 04:42:57</td>\n",
       "      <td>-0.441990</td>\n",
       "      <td>-0.525476</td>\n",
       "      <td>0.723410</td>\n",
       "      <td>76.0</td>\n",
       "      <td>0.0</td>\n",
       "    </tr>\n",
       "    <tr>\n",
       "      <th>16978</th>\n",
       "      <td>0 days 04:42:58</td>\n",
       "      <td>-0.441581</td>\n",
       "      <td>-0.525116</td>\n",
       "      <td>0.724003</td>\n",
       "      <td>76.0</td>\n",
       "      <td>0.0</td>\n",
       "    </tr>\n",
       "    <tr>\n",
       "      <th>16979</th>\n",
       "      <td>0 days 04:42:59</td>\n",
       "      <td>-0.442283</td>\n",
       "      <td>-0.525849</td>\n",
       "      <td>0.723265</td>\n",
       "      <td>76.0</td>\n",
       "      <td>0.0</td>\n",
       "    </tr>\n",
       "    <tr>\n",
       "      <th>16980</th>\n",
       "      <td>0 days 04:43:00</td>\n",
       "      <td>-0.442674</td>\n",
       "      <td>-0.525962</td>\n",
       "      <td>0.722678</td>\n",
       "      <td>76.0</td>\n",
       "      <td>0.0</td>\n",
       "    </tr>\n",
       "  </tbody>\n",
       "</table>\n",
       "<p>16981 rows × 6 columns</p>\n",
       "</div>"
      ],
      "text/plain": [
       "            timedelta      accX      accY      accZ  heartrate  sleep\n",
       "0     0 days 00:00:00 -0.243203  0.895372  0.367591       97.0   -1.0\n",
       "1     0 days 00:00:01 -0.240757  0.873826  0.415446       97.0   -1.0\n",
       "2     0 days 00:00:02 -0.244620  0.883943  0.387026       97.0   -1.0\n",
       "3     0 days 00:00:03 -0.248036  0.902427  0.347812       97.0   -1.0\n",
       "4     0 days 00:00:04 -0.241778  0.912946  0.321502       97.0   -1.0\n",
       "...               ...       ...       ...       ...        ...    ...\n",
       "16976 0 days 04:42:56 -0.442763 -0.525892  0.722950       76.0    0.0\n",
       "16977 0 days 04:42:57 -0.441990 -0.525476  0.723410       76.0    0.0\n",
       "16978 0 days 04:42:58 -0.441581 -0.525116  0.724003       76.0    0.0\n",
       "16979 0 days 04:42:59 -0.442283 -0.525849  0.723265       76.0    0.0\n",
       "16980 0 days 04:43:00 -0.442674 -0.525962  0.722678       76.0    0.0\n",
       "\n",
       "[16981 rows x 6 columns]"
      ]
     },
     "execution_count": 293,
     "metadata": {},
     "output_type": "execute_result"
    }
   ],
   "source": [
    "# ------------Merge All Data -------------------------------\n",
    "df_all = []\n",
    "df_all = pd.merge_asof(ACC_new_2, HeartR_new_2, on='timedelta')\n",
    "df_all = pd.merge_asof(df_all, SleepL_new_2, on = 'timedelta')\n",
    "df_all"
   ]
  },
  {
   "cell_type": "code",
   "execution_count": 294,
   "metadata": {},
   "outputs": [],
   "source": [
    "df_all['sleep'] = df_all['sleep'].replace(-1,0)"
   ]
  },
  {
   "cell_type": "code",
   "execution_count": 295,
   "metadata": {},
   "outputs": [],
   "source": [
    "df_all['heartrate'].fillna(df_all['heartrate'].median())\n",
    "df_all['sleep'].fillna(0)\n",
    "df_all = df_all.drop(columns='timedelta')"
   ]
  },
  {
   "cell_type": "code",
   "execution_count": 296,
   "metadata": {},
   "outputs": [],
   "source": [
    "feature_columns = ['accX', 'accY', 'accZ', 'heartrate']\n",
    "label_columns = ['sleep']\n",
    "df_feature = df_all[feature_columns]\n",
    "scaler = preprocessing.StandardScaler()\n",
    "df_feature = pd.DataFrame(scaler.fit_transform(df_feature.values),index = df_feature.index,columns=df_feature.columns)\n",
    "df_label = df_all[label_columns]"
   ]
  },
  {
   "cell_type": "code",
   "execution_count": 297,
   "metadata": {},
   "outputs": [
    {
     "data": {
      "text/plain": [
       "<AxesSubplot: >"
      ]
     },
     "execution_count": 297,
     "metadata": {},
     "output_type": "execute_result"
    },
    {
     "data": {
      "image/png": "[encoded data removed]",
      "text/plain": [
       "<Figure size 640x480 with 1 Axes>"
      ]
     },
     "metadata": {},
     "output_type": "display_data"
    }
   ],
   "source": [
    "df_feature.plot.line()"
   ]
  },
  {
   "cell_type": "code",
   "execution_count": 298,
   "metadata": {},
   "outputs": [
    {
     "data": {
      "text/plain": [
       "<AxesSubplot: >"
      ]
     },
     "execution_count": 298,
     "metadata": {},
     "output_type": "execute_result"
    },
    {
     "data": {
      "image/png": "[encoded data removed]",
      "text/plain": [
       "<Figure size 640x480 with 1 Axes>"
      ]
     },
     "metadata": {},
     "output_type": "display_data"
    }
   ],
   "source": [
    "df_label.plot.line()"
   ]
  },
  {
   "cell_type": "markdown",
   "metadata": {},
   "source": [
    "Lab_10"
   ]
  },
  {
   "cell_type": "code",
   "execution_count": 299,
   "metadata": {},
   "outputs": [
    {
     "data": {
      "text/html": [
       "<div>\n",
       "<style scoped>\n",
       "    .dataframe tbody tr th:only-of-type {\n",
       "        vertical-align: middle;\n",
       "    }\n",
       "\n",
       "    .dataframe tbody tr th {\n",
       "        vertical-align: top;\n",
       "    }\n",
       "\n",
       "    .dataframe thead th {\n",
       "        text-align: right;\n",
       "    }\n",
       "</style>\n",
       "<table border=\"1\" class=\"dataframe\">\n",
       "  <thead>\n",
       "    <tr style=\"text-align: right;\">\n",
       "      <th></th>\n",
       "      <th>accX</th>\n",
       "      <th>accY</th>\n",
       "      <th>accZ</th>\n",
       "      <th>heartrate</th>\n",
       "    </tr>\n",
       "  </thead>\n",
       "  <tbody>\n",
       "    <tr>\n",
       "      <th>0</th>\n",
       "      <td>-0.587547</td>\n",
       "      <td>3.058075</td>\n",
       "      <td>0.698728</td>\n",
       "      <td>2.078705</td>\n",
       "    </tr>\n",
       "    <tr>\n",
       "      <th>1</th>\n",
       "      <td>-0.581456</td>\n",
       "      <td>2.995094</td>\n",
       "      <td>0.757746</td>\n",
       "      <td>2.078705</td>\n",
       "    </tr>\n",
       "    <tr>\n",
       "      <th>2</th>\n",
       "      <td>-0.591075</td>\n",
       "      <td>3.024668</td>\n",
       "      <td>0.722696</td>\n",
       "      <td>2.078705</td>\n",
       "    </tr>\n",
       "    <tr>\n",
       "      <th>3</th>\n",
       "      <td>-0.599581</td>\n",
       "      <td>3.078699</td>\n",
       "      <td>0.674335</td>\n",
       "      <td>2.078705</td>\n",
       "    </tr>\n",
       "    <tr>\n",
       "      <th>4</th>\n",
       "      <td>-0.583998</td>\n",
       "      <td>3.109450</td>\n",
       "      <td>0.641889</td>\n",
       "      <td>2.078705</td>\n",
       "    </tr>\n",
       "    <tr>\n",
       "      <th>...</th>\n",
       "      <td>...</td>\n",
       "      <td>...</td>\n",
       "      <td>...</td>\n",
       "      <td>...</td>\n",
       "    </tr>\n",
       "    <tr>\n",
       "      <th>16976</th>\n",
       "      <td>-1.084456</td>\n",
       "      <td>-1.096565</td>\n",
       "      <td>1.136974</td>\n",
       "      <td>-0.630035</td>\n",
       "    </tr>\n",
       "    <tr>\n",
       "      <th>16977</th>\n",
       "      <td>-1.082531</td>\n",
       "      <td>-1.095348</td>\n",
       "      <td>1.137542</td>\n",
       "      <td>-0.630035</td>\n",
       "    </tr>\n",
       "    <tr>\n",
       "      <th>16978</th>\n",
       "      <td>-1.081511</td>\n",
       "      <td>-1.094296</td>\n",
       "      <td>1.138273</td>\n",
       "      <td>-0.630035</td>\n",
       "    </tr>\n",
       "    <tr>\n",
       "      <th>16979</th>\n",
       "      <td>-1.083260</td>\n",
       "      <td>-1.096440</td>\n",
       "      <td>1.137363</td>\n",
       "      <td>-0.630035</td>\n",
       "    </tr>\n",
       "    <tr>\n",
       "      <th>16980</th>\n",
       "      <td>-1.084234</td>\n",
       "      <td>-1.096769</td>\n",
       "      <td>1.136639</td>\n",
       "      <td>-0.630035</td>\n",
       "    </tr>\n",
       "  </tbody>\n",
       "</table>\n",
       "<p>16981 rows × 4 columns</p>\n",
       "</div>"
      ],
      "text/plain": [
       "           accX      accY      accZ  heartrate\n",
       "0     -0.587547  3.058075  0.698728   2.078705\n",
       "1     -0.581456  2.995094  0.757746   2.078705\n",
       "2     -0.591075  3.024668  0.722696   2.078705\n",
       "3     -0.599581  3.078699  0.674335   2.078705\n",
       "4     -0.583998  3.109450  0.641889   2.078705\n",
       "...         ...       ...       ...        ...\n",
       "16976 -1.084456 -1.096565  1.136974  -0.630035\n",
       "16977 -1.082531 -1.095348  1.137542  -0.630035\n",
       "16978 -1.081511 -1.094296  1.138273  -0.630035\n",
       "16979 -1.083260 -1.096440  1.137363  -0.630035\n",
       "16980 -1.084234 -1.096769  1.136639  -0.630035\n",
       "\n",
       "[16981 rows x 4 columns]"
      ]
     },
     "execution_count": 299,
     "metadata": {},
     "output_type": "execute_result"
    }
   ],
   "source": [
    "df_feature"
   ]
  },
  {
   "cell_type": "code",
   "execution_count": 300,
   "metadata": {},
   "outputs": [
    {
     "data": {
      "text/html": [
       "<div>\n",
       "<style scoped>\n",
       "    .dataframe tbody tr th:only-of-type {\n",
       "        vertical-align: middle;\n",
       "    }\n",
       "\n",
       "    .dataframe tbody tr th {\n",
       "        vertical-align: top;\n",
       "    }\n",
       "\n",
       "    .dataframe thead th {\n",
       "        text-align: right;\n",
       "    }\n",
       "</style>\n",
       "<table border=\"1\" class=\"dataframe\">\n",
       "  <thead>\n",
       "    <tr style=\"text-align: right;\">\n",
       "      <th></th>\n",
       "      <th>sleep</th>\n",
       "    </tr>\n",
       "  </thead>\n",
       "  <tbody>\n",
       "    <tr>\n",
       "      <th>0</th>\n",
       "      <td>0.0</td>\n",
       "    </tr>\n",
       "    <tr>\n",
       "      <th>1</th>\n",
       "      <td>0.0</td>\n",
       "    </tr>\n",
       "    <tr>\n",
       "      <th>2</th>\n",
       "      <td>0.0</td>\n",
       "    </tr>\n",
       "    <tr>\n",
       "      <th>3</th>\n",
       "      <td>0.0</td>\n",
       "    </tr>\n",
       "    <tr>\n",
       "      <th>4</th>\n",
       "      <td>0.0</td>\n",
       "    </tr>\n",
       "    <tr>\n",
       "      <th>...</th>\n",
       "      <td>...</td>\n",
       "    </tr>\n",
       "    <tr>\n",
       "      <th>16976</th>\n",
       "      <td>0.0</td>\n",
       "    </tr>\n",
       "    <tr>\n",
       "      <th>16977</th>\n",
       "      <td>0.0</td>\n",
       "    </tr>\n",
       "    <tr>\n",
       "      <th>16978</th>\n",
       "      <td>0.0</td>\n",
       "    </tr>\n",
       "    <tr>\n",
       "      <th>16979</th>\n",
       "      <td>0.0</td>\n",
       "    </tr>\n",
       "    <tr>\n",
       "      <th>16980</th>\n",
       "      <td>0.0</td>\n",
       "    </tr>\n",
       "  </tbody>\n",
       "</table>\n",
       "<p>16981 rows × 1 columns</p>\n",
       "</div>"
      ],
      "text/plain": [
       "       sleep\n",
       "0        0.0\n",
       "1        0.0\n",
       "2        0.0\n",
       "3        0.0\n",
       "4        0.0\n",
       "...      ...\n",
       "16976    0.0\n",
       "16977    0.0\n",
       "16978    0.0\n",
       "16979    0.0\n",
       "16980    0.0\n",
       "\n",
       "[16981 rows x 1 columns]"
      ]
     },
     "execution_count": 300,
     "metadata": {},
     "output_type": "execute_result"
    }
   ],
   "source": [
    "df_label"
   ]
  },
  {
   "cell_type": "code",
   "execution_count": 301,
   "metadata": {},
   "outputs": [],
   "source": [
    "# ------------Simple Moving Average (SMA) ------------------------------\n",
    "df_feature_SMA = pd.DataFrame()\n",
    "columns=['accX', 'accY', 'accZ', 'heartrate']\n",
    "df_feature_SMA['accX'] = df_feature['accX'].rolling(5, min_periods=1).mean()\n",
    "df_feature_SMA['accY'] = df_feature['accY'].rolling(5, min_periods=1).mean()\n",
    "df_feature_SMA['accZ'] = df_feature['accZ'].rolling(5, min_periods=1).mean()\n",
    "df_feature_SMA['heartrate'] = df_feature['heartrate'].rolling(5, min_periods=1).mean()"
   ]
  },
  {
   "cell_type": "code",
   "execution_count": 302,
   "metadata": {},
   "outputs": [
    {
     "name": "stdout",
     "output_type": "stream",
     "text": [
      "           accX      accY      accZ  heartrate\n",
      "0     -0.587547  3.058075  0.698728   2.078705\n",
      "1     -0.584501  3.026584  0.728237   2.078705\n",
      "2     -0.586693  3.025946  0.726390   2.078705\n",
      "3     -0.589915  3.039134  0.713376   2.078705\n",
      "4     -0.588732  3.053197  0.699079   2.078705\n",
      "...         ...       ...       ...        ...\n",
      "16976 -1.083093 -1.096081  1.137686  -0.630035\n",
      "16977 -1.082878 -1.095794  1.137665  -0.630035\n",
      "16978 -1.082621 -1.095441  1.137763  -0.630035\n",
      "16979 -1.082981 -1.095685  1.137570  -0.630035\n",
      "16980 -1.083198 -1.095884  1.137358  -0.630035\n",
      "\n",
      "[16981 rows x 4 columns]\n",
      "           accX      accY      accZ  heartrate\n",
      "0     -0.587547  3.058075  0.698728   2.078705\n",
      "1     -0.581456  2.995094  0.757746   2.078705\n",
      "2     -0.591075  3.024668  0.722696   2.078705\n",
      "3     -0.599581  3.078699  0.674335   2.078705\n",
      "4     -0.583998  3.109450  0.641889   2.078705\n",
      "...         ...       ...       ...        ...\n",
      "16976 -1.084456 -1.096565  1.136974  -0.630035\n",
      "16977 -1.082531 -1.095348  1.137542  -0.630035\n",
      "16978 -1.081511 -1.094296  1.138273  -0.630035\n",
      "16979 -1.083260 -1.096440  1.137363  -0.630035\n",
      "16980 -1.084234 -1.096769  1.136639  -0.630035\n",
      "\n",
      "[16981 rows x 4 columns]\n"
     ]
    }
   ],
   "source": [
    "print(df_feature_SMA)\n",
    "print(df_feature)"
   ]
  },
  {
   "cell_type": "code",
   "execution_count": 303,
   "metadata": {},
   "outputs": [
    {
     "name": "stdout",
     "output_type": "stream",
     "text": [
      "[[[-0.58754699  3.05807519  0.69872824  2.07870531]\n",
      "  [-0.58145574  2.99509378  0.75774575  2.07870531]\n",
      "  [-0.59107524  3.02466836  0.72269623  2.07870531]\n",
      "  ...\n",
      "  [-0.92104538  3.14574551  0.23209668  0.27287859]\n",
      "  [-0.91866235  3.14714076  0.23126907  0.27287859]\n",
      "  [-0.90930807  3.15256736  0.23283358  0.27287859]]\n",
      "\n",
      " [[-0.63079638  3.06967162  0.66802186  1.82073006]\n",
      "  [-0.65623081  3.03358303  0.6929944   1.82073006]\n",
      "  [-0.61745949  3.04996268  0.70392346  1.82073006]\n",
      "  ...\n",
      "  [-0.92642696  3.14347961  0.2498879   0.27287859]\n",
      "  [-0.92573315  3.14479812  0.24662261  0.27287859]\n",
      "  [-0.92884721  3.14333154  0.24502384  0.27287859]]\n",
      "\n",
      " [[-0.63628057  3.0250707   0.71564591  1.94971769]\n",
      "  [-0.62761322  3.01867796  0.73035476  1.82073006]\n",
      "  [-0.57525196  3.01737999  0.71955327  1.82073006]\n",
      "  ...\n",
      "  [-0.94121296  3.13656413  0.25052318  0.27287859]\n",
      "  [-0.93930714  3.14278647  0.25643917  0.14389097]\n",
      "  [-0.95057638  3.12620338  0.28615041  0.14389097]]\n",
      "\n",
      " ...\n",
      "\n",
      " [[-1.08102654 -1.09954191  1.13738879 -0.75902239]\n",
      "  [-1.08085481 -1.10037689  1.13740422 -0.75902239]\n",
      "  [-1.07976284 -1.09760338  1.13807338 -0.75902239]\n",
      "  ...\n",
      "  [-1.08372875 -1.0964053   1.13772148 -0.63003477]\n",
      "  [-1.0837789  -1.09655605  1.13742264 -0.63003477]\n",
      "  [-1.0818642  -1.09432701  1.13831963 -0.63003477]]\n",
      "\n",
      " [[-1.08000604 -1.09858737  1.13778546 -0.63003477]\n",
      "  [-1.08078111 -1.09954548  1.13725818 -0.63003477]\n",
      "  [-1.08133812 -1.09961152  1.13684758 -0.63003477]\n",
      "  ...\n",
      "  [-1.08360564 -1.09678534  1.13765073 -0.63003477]\n",
      "  [-1.08279787 -1.09606186  1.13778283 -0.63003477]\n",
      "  [-1.08146043 -1.09521792  1.13832478 -0.63003477]]\n",
      "\n",
      " [[-1.08131455 -1.09931979  1.13702861 -0.63003477]\n",
      "  [-1.08223933 -1.09935726  1.13657961 -0.50104715]\n",
      "  [-1.08022032 -1.09885413  1.1373534  -0.50104715]\n",
      "  ...\n",
      "  [-1.08253116 -1.09534817  1.13754233 -0.63003477]\n",
      "  [-1.08151136 -1.0942955   1.13827323 -0.63003477]\n",
      "  [-1.08325986 -1.09644011  1.13736319 -0.63003477]]]\n",
      "[[[-0.58754699 -0.58145574 -0.59107524 ... -0.92104538 -0.91866235\n",
      "   -0.90930807]\n",
      "  [ 3.05807519  2.99509378  3.02466836 ...  3.14574551  3.14714076\n",
      "    3.15256736]\n",
      "  [ 0.69872824  0.75774575  0.72269623 ...  0.23209668  0.23126907\n",
      "    0.23283358]\n",
      "  [ 2.07870531  2.07870531  2.07870531 ...  0.27287859  0.27287859\n",
      "    0.27287859]]\n",
      "\n",
      " [[-0.63079638 -0.65623081 -0.61745949 ... -0.92642696 -0.92573315\n",
      "   -0.92884721]\n",
      "  [ 3.06967162  3.03358303  3.04996268 ...  3.14347961  3.14479812\n",
      "    3.14333154]\n",
      "  [ 0.66802186  0.6929944   0.70392346 ...  0.2498879   0.24662261\n",
      "    0.24502384]\n",
      "  [ 1.82073006  1.82073006  1.82073006 ...  0.27287859  0.27287859\n",
      "    0.27287859]]\n",
      "\n",
      " [[-0.63628057 -0.62761322 -0.57525196 ... -0.94121296 -0.93930714\n",
      "   -0.95057638]\n",
      "  [ 3.0250707   3.01867796  3.01737999 ...  3.13656413  3.14278647\n",
      "    3.12620338]\n",
      "  [ 0.71564591  0.73035476  0.71955327 ...  0.25052318  0.25643917\n",
      "    0.28615041]\n",
      "  [ 1.94971769  1.82073006  1.82073006 ...  0.27287859  0.14389097\n",
      "    0.14389097]]\n",
      "\n",
      " ...\n",
      "\n",
      " [[-1.08102654 -1.08085481 -1.07976284 ... -1.08372875 -1.0837789\n",
      "   -1.0818642 ]\n",
      "  [-1.09954191 -1.10037689 -1.09760338 ... -1.0964053  -1.09655605\n",
      "   -1.09432701]\n",
      "  [ 1.13738879  1.13740422  1.13807338 ...  1.13772148  1.13742264\n",
      "    1.13831963]\n",
      "  [-0.75902239 -0.75902239 -0.75902239 ... -0.63003477 -0.63003477\n",
      "   -0.63003477]]\n",
      "\n",
      " [[-1.08000604 -1.08078111 -1.08133812 ... -1.08360564 -1.08279787\n",
      "   -1.08146043]\n",
      "  [-1.09858737 -1.09954548 -1.09961152 ... -1.09678534 -1.09606186\n",
      "   -1.09521792]\n",
      "  [ 1.13778546  1.13725818  1.13684758 ...  1.13765073  1.13778283\n",
      "    1.13832478]\n",
      "  [-0.63003477 -0.63003477 -0.63003477 ... -0.63003477 -0.63003477\n",
      "   -0.63003477]]\n",
      "\n",
      " [[-1.08131455 -1.08223933 -1.08022032 ... -1.08253116 -1.08151136\n",
      "   -1.08325986]\n",
      "  [-1.09931979 -1.09935726 -1.09885413 ... -1.09534817 -1.0942955\n",
      "   -1.09644011]\n",
      "  [ 1.13702861  1.13657961  1.1373534  ...  1.13754233  1.13827323\n",
      "    1.13736319]\n",
      "  [-0.63003477 -0.50104715 -0.50104715 ... -0.63003477 -0.63003477\n",
      "   -0.63003477]]]\n"
     ]
    }
   ],
   "source": [
    "# ------------ Train-Test-Split 2D features -------------------------------\n",
    "# set sliding window parameter\n",
    "slidingW = 100 #จ ํานวน row\n",
    "Stride_step = 5\n",
    "df_feature2D = np.array([])\n",
    "df_label_new = np.array([])\n",
    "df_feature2D_T = np.array([])\n",
    "for t in range( 0 , len(df_feature), Stride_step ):\n",
    "    F2d = np.array(df_feature[t:t+slidingW],ndmin=2)\n",
    "    if len(F2d) <slidingW:\n",
    "        break\n",
    "    F2d_T = F2d.transpose()\n",
    "    if df_feature2D.size == 0 :\n",
    "        df_feature2D = F2d\n",
    "        df_feature2D_T = F2d_T\n",
    "    else:\n",
    "        df_feature2D = np.dstack((df_feature2D,F2d))\n",
    "        df_feature2D_T = np.dstack((df_feature2D_T,F2d_T))\n",
    "    Labels = stats.mode(df_label[t : t+slidingW])\n",
    "    df_label_new = np.append(df_label_new,Labels[0])\n",
    "df_feature2D = np.swapaxes(df_feature2D,0,2)\n",
    "df_feature2D_T = np.swapaxes(df_feature2D_T,0,2)\n",
    "print(df_feature2D_T)\n",
    "print(df_feature2D)"
   ]
  },
  {
   "cell_type": "code",
   "execution_count": 304,
   "metadata": {},
   "outputs": [
    {
     "name": "stdout",
     "output_type": "stream",
     "text": [
      "(3377, 4, 100)\n",
      "(3377, 100, 4)\n",
      "(3377,)\n"
     ]
    }
   ],
   "source": [
    "print(df_feature2D.shape)\n",
    "print(df_feature2D_T.shape)\n",
    "print(df_label_new.shape)"
   ]
  },
  {
   "cell_type": "code",
   "execution_count": 305,
   "metadata": {},
   "outputs": [],
   "source": [
    "x_train, x_test, y_train, y_test = model_selection.train_test_split( df_feature2D, df_label_new, test_size = 0.3, random_state = 42)"
   ]
  },
  {
   "cell_type": "code",
   "execution_count": 306,
   "metadata": {},
   "outputs": [],
   "source": [
    "x_train_T, x_test_T, y_train_T, y_test_T = model_selection.train_test_split( df_feature2D_T, df_label_new, test_size = 0.3, random_state = 42)"
   ]
  },
  {
   "cell_type": "code",
   "execution_count": 307,
   "metadata": {},
   "outputs": [],
   "source": [
    "# ------------ LSTM Architecture parameter -------------------------------\n",
    "# Nlayer (LSTM, dense), Nnode, Activation\n",
    "LSTM_L1 = 100 # try 200, 300, 400, 500, 1000\n",
    "LSTM_L2 = 50 # try 50, 100, 150, 200, 250, 300\n",
    "dropRate_L1 = 0.25\n",
    "dropRate_L2 = 0.5\n",
    "D_out = 5\n",
    "Activation = 'Softmax'\n",
    "n_classes = 6\n",
    "inRow = 4\n",
    "inCol = slidingW\n",
    "Input_shape_op1 = (inRow, inCol)\n",
    "Input_shape_op2 = (inCol,inRow)\n"
   ]
  },
  {
   "cell_type": "code",
   "execution_count": 308,
   "metadata": {},
   "outputs": [
    {
     "name": "stdout",
     "output_type": "stream",
     "text": [
      "Model: \"sequential_7\"\n",
      "_________________________________________________________________\n",
      " Layer (type)                Output Shape              Param #   \n",
      "=================================================================\n",
      " lstm_14 (LSTM)              (None, 4, 100)            80400     \n",
      "                                                                 \n",
      " dropout_14 (Dropout)        (None, 4, 100)            0         \n",
      "                                                                 \n",
      " lstm_15 (LSTM)              (None, 50)                30200     \n",
      "                                                                 \n",
      " dropout_15 (Dropout)        (None, 50)                0         \n",
      "                                                                 \n",
      " dense_7 (Dense)             (None, 6)                 306       \n",
      "                                                                 \n",
      "=================================================================\n",
      "Total params: 110,906\n",
      "Trainable params: 110,906\n",
      "Non-trainable params: 0\n",
      "_________________________________________________________________\n"
     ]
    }
   ],
   "source": [
    "# ------------ Create LSTM Model -------------------------------\n",
    "model = Sequential()\n",
    "model.add(LSTM( LSTM_L1, return_sequences=True,input_shape= Input_shape_op1))\n",
    "model.add(Dropout(dropRate_L1 ))\n",
    "model.add(LSTM(LSTM_L2 ))\n",
    "model.add(Dropout(dropRate_L2))\n",
    "model.add(Dense(n_classes, activation='softmax'))\n",
    "model.summary()"
   ]
  },
  {
   "cell_type": "code",
   "execution_count": 309,
   "metadata": {},
   "outputs": [],
   "source": [
    "# ------------ Create Optimizer -------------------------------\n",
    "model.compile( optimizer='adam',loss='sparse_categorical_crossentropy',metrics=[\"acc\"])"
   ]
  },
  {
   "cell_type": "code",
   "execution_count": 310,
   "metadata": {},
   "outputs": [
    {
     "name": "stdout",
     "output_type": "stream",
     "text": [
      "(1014, 4, 100)\n",
      "(1014,)\n",
      "(2363, 4, 100)\n",
      "(2363,)\n"
     ]
    }
   ],
   "source": [
    "print(x_test.shape)\n",
    "print(y_test.shape)\n",
    "print(x_train.shape)\n",
    "print(y_train.shape)"
   ]
  },
  {
   "cell_type": "code",
   "execution_count": 311,
   "metadata": {},
   "outputs": [
    {
     "name": "stdout",
     "output_type": "stream",
     "text": [
      "Epoch 1/50\n",
      "40/40 [==============================] - 6s 30ms/step - loss: 1.3901 - acc: 0.4664 - val_loss: 1.1125 - val_acc: 0.5473\n",
      "Epoch 2/50\n",
      "40/40 [==============================] - 0s 10ms/step - loss: 1.1068 - acc: 0.5540 - val_loss: 0.9554 - val_acc: 0.6243\n",
      "Epoch 3/50\n",
      "40/40 [==============================] - 1s 14ms/step - loss: 0.9324 - acc: 0.6471 - val_loss: 0.7511 - val_acc: 0.7199\n",
      "Epoch 4/50\n",
      "40/40 [==============================] - 1s 30ms/step - loss: 0.7677 - acc: 0.7067 - val_loss: 0.6189 - val_acc: 0.7722\n",
      "Epoch 5/50\n",
      "40/40 [==============================] - 1s 14ms/step - loss: 0.6451 - acc: 0.7524 - val_loss: 0.5306 - val_acc: 0.8254\n",
      "Epoch 6/50\n",
      "40/40 [==============================] - 1s 15ms/step - loss: 0.5517 - acc: 0.7880 - val_loss: 0.4584 - val_acc: 0.8304\n",
      "Epoch 7/50\n",
      "40/40 [==============================] - 0s 12ms/step - loss: 0.4941 - acc: 0.8091 - val_loss: 0.4109 - val_acc: 0.8560\n",
      "Epoch 8/50\n",
      "40/40 [==============================] - 1s 17ms/step - loss: 0.4192 - acc: 0.8493 - val_loss: 0.3751 - val_acc: 0.8511\n",
      "Epoch 9/50\n",
      "40/40 [==============================] - 1s 13ms/step - loss: 0.3815 - acc: 0.8540 - val_loss: 0.3733 - val_acc: 0.8511\n",
      "Epoch 10/50\n",
      "40/40 [==============================] - 0s 11ms/step - loss: 0.3548 - acc: 0.8620 - val_loss: 0.3349 - val_acc: 0.8679\n",
      "Epoch 11/50\n",
      "40/40 [==============================] - 0s 9ms/step - loss: 0.3211 - acc: 0.8807 - val_loss: 0.3178 - val_acc: 0.8738\n",
      "Epoch 12/50\n",
      "40/40 [==============================] - 0s 10ms/step - loss: 0.3052 - acc: 0.8845 - val_loss: 0.2872 - val_acc: 0.8757\n",
      "Epoch 13/50\n",
      "40/40 [==============================] - 0s 9ms/step - loss: 0.2829 - acc: 0.8904 - val_loss: 0.2616 - val_acc: 0.8866\n",
      "Epoch 14/50\n",
      "40/40 [==============================] - 0s 10ms/step - loss: 0.2836 - acc: 0.8908 - val_loss: 0.2897 - val_acc: 0.8915\n",
      "Epoch 15/50\n",
      "40/40 [==============================] - 0s 10ms/step - loss: 0.2675 - acc: 0.8972 - val_loss: 0.2414 - val_acc: 0.8955\n",
      "Epoch 16/50\n",
      "40/40 [==============================] - 1s 20ms/step - loss: 0.2494 - acc: 0.9065 - val_loss: 0.2119 - val_acc: 0.9053\n",
      "Epoch 17/50\n",
      "40/40 [==============================] - 1s 16ms/step - loss: 0.2333 - acc: 0.9137 - val_loss: 0.2352 - val_acc: 0.9014\n",
      "Epoch 18/50\n",
      "40/40 [==============================] - 1s 35ms/step - loss: 0.2292 - acc: 0.9111 - val_loss: 0.2070 - val_acc: 0.9083\n",
      "Epoch 19/50\n",
      "40/40 [==============================] - 1s 20ms/step - loss: 0.2101 - acc: 0.9192 - val_loss: 0.1877 - val_acc: 0.9201\n",
      "Epoch 20/50\n",
      "40/40 [==============================] - 1s 21ms/step - loss: 0.2160 - acc: 0.9187 - val_loss: 0.2545 - val_acc: 0.8905\n",
      "Epoch 21/50\n",
      "40/40 [==============================] - 1s 18ms/step - loss: 0.2082 - acc: 0.9171 - val_loss: 0.2001 - val_acc: 0.9191\n",
      "Epoch 22/50\n",
      "40/40 [==============================] - 1s 13ms/step - loss: 0.2003 - acc: 0.9221 - val_loss: 0.2054 - val_acc: 0.9122\n",
      "Epoch 23/50\n",
      "40/40 [==============================] - 1s 15ms/step - loss: 0.1883 - acc: 0.9264 - val_loss: 0.2257 - val_acc: 0.8955\n",
      "Epoch 24/50\n",
      "40/40 [==============================] - 1s 19ms/step - loss: 0.1818 - acc: 0.9331 - val_loss: 0.1903 - val_acc: 0.9201\n",
      "Epoch 25/50\n",
      "40/40 [==============================] - 1s 22ms/step - loss: 0.1833 - acc: 0.9264 - val_loss: 0.2112 - val_acc: 0.9122\n",
      "Epoch 26/50\n",
      "40/40 [==============================] - 1s 19ms/step - loss: 0.1757 - acc: 0.9369 - val_loss: 0.1770 - val_acc: 0.9280\n",
      "Epoch 27/50\n",
      "40/40 [==============================] - 1s 16ms/step - loss: 0.1578 - acc: 0.9391 - val_loss: 0.1756 - val_acc: 0.9191\n",
      "Epoch 28/50\n",
      "40/40 [==============================] - 1s 23ms/step - loss: 0.1528 - acc: 0.9424 - val_loss: 0.2012 - val_acc: 0.9093\n",
      "Epoch 29/50\n",
      "40/40 [==============================] - 1s 26ms/step - loss: 0.1504 - acc: 0.9424 - val_loss: 0.1791 - val_acc: 0.9211\n",
      "Epoch 30/50\n",
      "40/40 [==============================] - 1s 19ms/step - loss: 0.1572 - acc: 0.9336 - val_loss: 0.1846 - val_acc: 0.9221\n",
      "Epoch 31/50\n",
      "40/40 [==============================] - 1s 21ms/step - loss: 0.1444 - acc: 0.9437 - val_loss: 0.1669 - val_acc: 0.9320\n",
      "Epoch 32/50\n",
      "40/40 [==============================] - 1s 16ms/step - loss: 0.1379 - acc: 0.9458 - val_loss: 0.1724 - val_acc: 0.9329\n",
      "Epoch 33/50\n",
      "40/40 [==============================] - 1s 22ms/step - loss: 0.1481 - acc: 0.9408 - val_loss: 0.1533 - val_acc: 0.9290\n",
      "Epoch 34/50\n",
      "40/40 [==============================] - 1s 18ms/step - loss: 0.1277 - acc: 0.9530 - val_loss: 0.1694 - val_acc: 0.9270\n",
      "Epoch 35/50\n",
      "40/40 [==============================] - 0s 11ms/step - loss: 0.1276 - acc: 0.9488 - val_loss: 0.1843 - val_acc: 0.9241\n",
      "Epoch 36/50\n",
      "40/40 [==============================] - 0s 10ms/step - loss: 0.1498 - acc: 0.9395 - val_loss: 0.1842 - val_acc: 0.9211\n",
      "Epoch 37/50\n",
      "40/40 [==============================] - 0s 10ms/step - loss: 0.1470 - acc: 0.9399 - val_loss: 0.1669 - val_acc: 0.9329\n",
      "Epoch 38/50\n",
      "40/40 [==============================] - 0s 10ms/step - loss: 0.1315 - acc: 0.9479 - val_loss: 0.1663 - val_acc: 0.9310\n",
      "Epoch 39/50\n",
      "40/40 [==============================] - 0s 12ms/step - loss: 0.1276 - acc: 0.9509 - val_loss: 0.1599 - val_acc: 0.9339\n",
      "Epoch 40/50\n",
      "40/40 [==============================] - 0s 11ms/step - loss: 0.1195 - acc: 0.9492 - val_loss: 0.1581 - val_acc: 0.9329\n",
      "Epoch 41/50\n",
      "40/40 [==============================] - 1s 14ms/step - loss: 0.1254 - acc: 0.9488 - val_loss: 0.2314 - val_acc: 0.9142\n",
      "Epoch 42/50\n",
      "40/40 [==============================] - 0s 10ms/step - loss: 0.1381 - acc: 0.9450 - val_loss: 0.1782 - val_acc: 0.9181\n",
      "Epoch 43/50\n",
      "40/40 [==============================] - 0s 10ms/step - loss: 0.1386 - acc: 0.9437 - val_loss: 0.1599 - val_acc: 0.9310\n",
      "Epoch 44/50\n",
      "40/40 [==============================] - 0s 10ms/step - loss: 0.1158 - acc: 0.9551 - val_loss: 0.1738 - val_acc: 0.9250\n",
      "Epoch 45/50\n",
      "40/40 [==============================] - 0s 10ms/step - loss: 0.1265 - acc: 0.9492 - val_loss: 0.1476 - val_acc: 0.9389\n",
      "Epoch 46/50\n",
      "40/40 [==============================] - 1s 15ms/step - loss: 0.1335 - acc: 0.9441 - val_loss: 0.1439 - val_acc: 0.9369\n",
      "Epoch 47/50\n",
      "40/40 [==============================] - 0s 10ms/step - loss: 0.1111 - acc: 0.9577 - val_loss: 0.1491 - val_acc: 0.9329\n",
      "Epoch 48/50\n",
      "40/40 [==============================] - 0s 10ms/step - loss: 0.1145 - acc: 0.9526 - val_loss: 0.1441 - val_acc: 0.9359\n",
      "Epoch 49/50\n",
      "40/40 [==============================] - 0s 10ms/step - loss: 0.0958 - acc: 0.9606 - val_loss: 0.1297 - val_acc: 0.9467\n",
      "Epoch 50/50\n",
      "40/40 [==============================] - 0s 10ms/step - loss: 0.1544 - acc: 0.9416 - val_loss: 0.1748 - val_acc: 0.9339\n"
     ]
    }
   ],
   "source": [
    "# Training the model\n",
    "EP = 50\n",
    "batch_size = 60 # try 20, 40, 60, 80, 100\n",
    "history = model.fit( x_train, y_train,batch_size = batch_size,validation_data=(x_test, y_test), epochs=EP)"
   ]
  },
  {
   "cell_type": "code",
   "execution_count": 312,
   "metadata": {},
   "outputs": [
    {
     "name": "stdout",
     "output_type": "stream",
     "text": [
      "Model: \"sequential_8\"\n",
      "_________________________________________________________________\n",
      " Layer (type)                Output Shape              Param #   \n",
      "=================================================================\n",
      " lstm_16 (LSTM)              (None, 100, 100)          42000     \n",
      "                                                                 \n",
      " dropout_16 (Dropout)        (None, 100, 100)          0         \n",
      "                                                                 \n",
      " lstm_17 (LSTM)              (None, 50)                30200     \n",
      "                                                                 \n",
      " dropout_17 (Dropout)        (None, 50)                0         \n",
      "                                                                 \n",
      " dense_8 (Dense)             (None, 6)                 306       \n",
      "                                                                 \n",
      "=================================================================\n",
      "Total params: 72,506\n",
      "Trainable params: 72,506\n",
      "Non-trainable params: 0\n",
      "_________________________________________________________________\n"
     ]
    }
   ],
   "source": [
    "# ------------ Create LSTM Model -------------------------------\n",
    "model_t = Sequential()\n",
    "model_t.add(LSTM( LSTM_L1, return_sequences=True,input_shape= Input_shape_op2))\n",
    "model_t.add(Dropout(dropRate_L1 ))\n",
    "model_t.add(LSTM(LSTM_L2 ))\n",
    "model_t.add(Dropout(dropRate_L2))\n",
    "model_t.add(Dense(n_classes, activation='softmax'))\n",
    "model_t.summary()"
   ]
  },
  {
   "cell_type": "code",
   "execution_count": 313,
   "metadata": {},
   "outputs": [],
   "source": [
    "# ------------ Create Optimizer -------------------------------\n",
    "model_t.compile( optimizer='adam',loss='sparse_categorical_crossentropy',metrics=[\"acc\"])"
   ]
  },
  {
   "cell_type": "code",
   "execution_count": 314,
   "metadata": {},
   "outputs": [
    {
     "name": "stdout",
     "output_type": "stream",
     "text": [
      "Epoch 1/50\n",
      "40/40 [==============================] - 10s 192ms/step - loss: 1.2887 - acc: 0.4676 - val_loss: 0.9574 - val_acc: 0.5819\n",
      "Epoch 2/50\n",
      "40/40 [==============================] - 7s 170ms/step - loss: 0.9084 - acc: 0.6170 - val_loss: 0.7249 - val_acc: 0.6992\n",
      "Epoch 3/50\n",
      "40/40 [==============================] - 6s 157ms/step - loss: 0.7347 - acc: 0.7063 - val_loss: 0.6229 - val_acc: 0.7347\n",
      "Epoch 4/50\n",
      "40/40 [==============================] - 6s 162ms/step - loss: 0.7068 - acc: 0.7055 - val_loss: 0.6500 - val_acc: 0.7249\n",
      "Epoch 5/50\n",
      "40/40 [==============================] - 6s 156ms/step - loss: 0.6717 - acc: 0.7266 - val_loss: 0.5496 - val_acc: 0.7633\n",
      "Epoch 6/50\n",
      "40/40 [==============================] - 6s 153ms/step - loss: 0.5782 - acc: 0.7613 - val_loss: 0.5823 - val_acc: 0.7564\n",
      "Epoch 7/50\n",
      "40/40 [==============================] - 6s 161ms/step - loss: 0.6519 - acc: 0.7364 - val_loss: 0.5635 - val_acc: 0.7525\n",
      "Epoch 8/50\n",
      "40/40 [==============================] - 6s 150ms/step - loss: 0.6111 - acc: 0.7537 - val_loss: 0.5072 - val_acc: 0.7712\n",
      "Epoch 9/50\n",
      "40/40 [==============================] - 6s 158ms/step - loss: 0.5416 - acc: 0.7842 - val_loss: 0.8187 - val_acc: 0.7071\n",
      "Epoch 10/50\n",
      "40/40 [==============================] - 6s 149ms/step - loss: 0.6061 - acc: 0.7931 - val_loss: 0.5927 - val_acc: 0.7535\n",
      "Epoch 11/50\n",
      "40/40 [==============================] - 6s 154ms/step - loss: 0.5569 - acc: 0.7825 - val_loss: 0.5744 - val_acc: 0.7475\n",
      "Epoch 12/50\n",
      "40/40 [==============================] - 6s 155ms/step - loss: 0.5324 - acc: 0.7876 - val_loss: 0.4469 - val_acc: 0.8008\n",
      "Epoch 13/50\n",
      "40/40 [==============================] - 6s 149ms/step - loss: 0.5354 - acc: 0.7821 - val_loss: 0.5575 - val_acc: 0.7091\n",
      "Epoch 14/50\n",
      "40/40 [==============================] - 6s 152ms/step - loss: 0.5467 - acc: 0.7617 - val_loss: 0.5460 - val_acc: 0.7475\n",
      "Epoch 15/50\n",
      "40/40 [==============================] - 6s 153ms/step - loss: 0.4959 - acc: 0.7863 - val_loss: 0.4612 - val_acc: 0.7949\n",
      "Epoch 16/50\n",
      "40/40 [==============================] - 6s 154ms/step - loss: 0.5396 - acc: 0.7871 - val_loss: 0.5975 - val_acc: 0.7692\n",
      "Epoch 17/50\n",
      "40/40 [==============================] - 6s 148ms/step - loss: 0.5072 - acc: 0.8028 - val_loss: 0.5075 - val_acc: 0.7702\n",
      "Epoch 18/50\n",
      "40/40 [==============================] - 6s 152ms/step - loss: 0.5567 - acc: 0.7736 - val_loss: 0.4989 - val_acc: 0.7850\n",
      "Epoch 19/50\n",
      "40/40 [==============================] - 6s 156ms/step - loss: 0.4306 - acc: 0.8307 - val_loss: 0.4137 - val_acc: 0.8235\n",
      "Epoch 20/50\n",
      "40/40 [==============================] - 6s 148ms/step - loss: 0.4308 - acc: 0.8269 - val_loss: 0.5211 - val_acc: 0.7761\n",
      "Epoch 21/50\n",
      "40/40 [==============================] - 6s 155ms/step - loss: 0.4331 - acc: 0.8231 - val_loss: 0.3961 - val_acc: 0.8136\n",
      "Epoch 22/50\n",
      "40/40 [==============================] - 6s 148ms/step - loss: 0.3662 - acc: 0.8561 - val_loss: 0.3791 - val_acc: 0.8343\n",
      "Epoch 23/50\n",
      "40/40 [==============================] - 6s 151ms/step - loss: 0.3586 - acc: 0.8603 - val_loss: 0.3649 - val_acc: 0.8511\n",
      "Epoch 24/50\n",
      "40/40 [==============================] - 6s 149ms/step - loss: 0.3911 - acc: 0.8481 - val_loss: 0.4325 - val_acc: 0.8215\n",
      "Epoch 25/50\n",
      "40/40 [==============================] - 6s 155ms/step - loss: 0.3931 - acc: 0.8608 - val_loss: 0.4169 - val_acc: 0.8373\n",
      "Epoch 26/50\n",
      "40/40 [==============================] - 6s 151ms/step - loss: 0.4195 - acc: 0.8392 - val_loss: 0.3531 - val_acc: 0.8639\n",
      "Epoch 27/50\n",
      "40/40 [==============================] - 6s 152ms/step - loss: 0.4415 - acc: 0.8307 - val_loss: 0.4443 - val_acc: 0.8215\n",
      "Epoch 28/50\n",
      "40/40 [==============================] - 13s 329ms/step - loss: 0.4196 - acc: 0.8464 - val_loss: 0.3647 - val_acc: 0.8540\n",
      "Epoch 29/50\n",
      "40/40 [==============================] - 8s 202ms/step - loss: 0.3967 - acc: 0.8532 - val_loss: 0.4481 - val_acc: 0.8353\n",
      "Epoch 30/50\n",
      "40/40 [==============================] - 6s 152ms/step - loss: 0.3826 - acc: 0.8561 - val_loss: 0.3202 - val_acc: 0.8757\n",
      "Epoch 31/50\n",
      "40/40 [==============================] - 6s 147ms/step - loss: 0.3545 - acc: 0.8671 - val_loss: 0.3481 - val_acc: 0.8679\n",
      "Epoch 32/50\n",
      "40/40 [==============================] - 6s 152ms/step - loss: 0.3281 - acc: 0.8760 - val_loss: 0.3356 - val_acc: 0.8609\n",
      "Epoch 33/50\n",
      "40/40 [==============================] - 6s 150ms/step - loss: 0.3892 - acc: 0.8413 - val_loss: 0.3382 - val_acc: 0.8708\n",
      "Epoch 34/50\n",
      "40/40 [==============================] - 6s 151ms/step - loss: 0.3418 - acc: 0.8722 - val_loss: 0.3499 - val_acc: 0.8540\n",
      "Epoch 35/50\n",
      "40/40 [==============================] - 6s 147ms/step - loss: 0.3430 - acc: 0.8735 - val_loss: 0.3123 - val_acc: 0.8669\n",
      "Epoch 36/50\n",
      "40/40 [==============================] - 6s 154ms/step - loss: 0.3482 - acc: 0.8612 - val_loss: 0.3464 - val_acc: 0.8619\n",
      "Epoch 37/50\n",
      "40/40 [==============================] - 6s 154ms/step - loss: 0.3143 - acc: 0.8747 - val_loss: 0.3269 - val_acc: 0.8540\n",
      "Epoch 38/50\n",
      "40/40 [==============================] - 7s 175ms/step - loss: 0.3324 - acc: 0.8756 - val_loss: 0.3959 - val_acc: 0.8304\n",
      "Epoch 39/50\n",
      "40/40 [==============================] - 6s 155ms/step - loss: 0.3870 - acc: 0.8553 - val_loss: 0.4266 - val_acc: 0.8550\n",
      "Epoch 40/50\n",
      "40/40 [==============================] - 6s 148ms/step - loss: 0.4160 - acc: 0.8540 - val_loss: 0.3619 - val_acc: 0.8629\n",
      "Epoch 41/50\n",
      "40/40 [==============================] - 6s 151ms/step - loss: 0.3551 - acc: 0.8582 - val_loss: 0.3544 - val_acc: 0.8560\n",
      "Epoch 42/50\n",
      "40/40 [==============================] - 6s 146ms/step - loss: 0.3481 - acc: 0.8633 - val_loss: 0.3171 - val_acc: 0.8826\n",
      "Epoch 43/50\n",
      "40/40 [==============================] - 6s 151ms/step - loss: 0.3074 - acc: 0.8879 - val_loss: 0.3172 - val_acc: 0.8669\n",
      "Epoch 44/50\n",
      "40/40 [==============================] - 6s 149ms/step - loss: 0.2965 - acc: 0.8769 - val_loss: 0.2875 - val_acc: 0.8915\n",
      "Epoch 45/50\n",
      "40/40 [==============================] - 6s 146ms/step - loss: 0.2576 - acc: 0.8967 - val_loss: 0.2863 - val_acc: 0.8905\n",
      "Epoch 46/50\n",
      "40/40 [==============================] - 6s 152ms/step - loss: 0.2806 - acc: 0.8866 - val_loss: 0.3423 - val_acc: 0.8688\n",
      "Epoch 47/50\n",
      "40/40 [==============================] - 6s 154ms/step - loss: 0.2756 - acc: 0.8921 - val_loss: 0.3377 - val_acc: 0.8708\n",
      "Epoch 48/50\n",
      "40/40 [==============================] - 6s 156ms/step - loss: 0.2759 - acc: 0.8900 - val_loss: 0.2737 - val_acc: 0.8964\n",
      "Epoch 49/50\n",
      "40/40 [==============================] - 6s 146ms/step - loss: 0.2761 - acc: 0.8891 - val_loss: 0.2716 - val_acc: 0.8915\n",
      "Epoch 50/50\n",
      "40/40 [==============================] - 6s 149ms/step - loss: 0.3575 - acc: 0.8773 - val_loss: 0.5265 - val_acc: 0.8254\n"
     ]
    }
   ],
   "source": [
    "# Training the model\n",
    "EP = 50\n",
    "batch_size = 60 # try 20, 40, 60, 80, 100\n",
    "history_t = model_t.fit( x_train_T, y_train_T,batch_size = batch_size,validation_data=(x_test_T, y_test_T), epochs=EP)"
   ]
  },
  {
   "cell_type": "code",
   "execution_count": 315,
   "metadata": {},
   "outputs": [
    {
     "name": "stdout",
     "output_type": "stream",
     "text": [
      "32/32 [==============================] - 1s 3ms/step\n"
     ]
    }
   ],
   "source": [
    "LSTM_pred = np.argmax(model.predict(x_test),axis=1)"
   ]
  },
  {
   "cell_type": "code",
   "execution_count": 316,
   "metadata": {},
   "outputs": [
    {
     "name": "stdout",
     "output_type": "stream",
     "text": [
      "Confusion Matrix of LSTM_pred: \n",
      "[[160   1  25   0   0]\n",
      " [  0  38   9   0   2]\n",
      " [  3   1 296   1  10]\n",
      " [  0   0  11 266   0]\n",
      " [  0   0   4   0 187]]\n",
      "Classification Report of LSTM_pred: \n",
      "              precision    recall  f1-score   support\n",
      "\n",
      "         0.0       0.98      0.86      0.92       186\n",
      "         1.0       0.95      0.78      0.85        49\n",
      "         2.0       0.86      0.95      0.90       311\n",
      "         3.0       1.00      0.96      0.98       277\n",
      "         5.0       0.94      0.98      0.96       191\n",
      "\n",
      "    accuracy                           0.93      1014\n",
      "   macro avg       0.95      0.91      0.92      1014\n",
      "weighted avg       0.94      0.93      0.93      1014\n",
      "\n"
     ]
    }
   ],
   "source": [
    "print('Confusion Matrix of LSTM_pred: ')\n",
    "print(confusion_matrix(y_test, LSTM_pred))\n",
    "print('Classification Report of LSTM_pred: ')\n",
    "print(classification_report(y_test, LSTM_pred))"
   ]
  },
  {
   "cell_type": "code",
   "execution_count": 317,
   "metadata": {},
   "outputs": [
    {
     "name": "stdout",
     "output_type": "stream",
     "text": [
      "32/32 [==============================] - 1s 25ms/step\n"
     ]
    }
   ],
   "source": [
    "LSTM_pred_T = np.argmax(model_t.predict(x_test_T),axis=1)"
   ]
  },
  {
   "cell_type": "code",
   "execution_count": 318,
   "metadata": {},
   "outputs": [
    {
     "name": "stdout",
     "output_type": "stream",
     "text": [
      "Confusion Matrix of LSTM_pred transponse: \n",
      "[[151  27   8   0   0]\n",
      " [  8  38   0   0   3]\n",
      " [  9  30 232  25  15]\n",
      " [  0   0  35 242   0]\n",
      " [  0  10   4   3 174]]\n",
      "Classification Report of LSTM_pred transponse: \n",
      "              precision    recall  f1-score   support\n",
      "\n",
      "         0.0       0.90      0.81      0.85       186\n",
      "         1.0       0.36      0.78      0.49        49\n",
      "         2.0       0.83      0.75      0.79       311\n",
      "         3.0       0.90      0.87      0.88       277\n",
      "         5.0       0.91      0.91      0.91       191\n",
      "\n",
      "    accuracy                           0.83      1014\n",
      "   macro avg       0.78      0.82      0.79      1014\n",
      "weighted avg       0.85      0.83      0.83      1014\n",
      "\n"
     ]
    }
   ],
   "source": [
    "print('Confusion Matrix of LSTM_pred transponse: ')\n",
    "print(confusion_matrix(y_test_T, LSTM_pred_T))\n",
    "print('Classification Report of LSTM_pred transponse: ')\n",
    "print(classification_report(y_test_T, LSTM_pred_T))"
   ]
  },
  {
   "cell_type": "code",
   "execution_count": 319,
   "metadata": {},
   "outputs": [
    {
     "data": {
      "text/plain": [
       "[<matplotlib.lines.Line2D at 0x210806d19c0>]"
      ]
     },
     "execution_count": 319,
     "metadata": {},
     "output_type": "execute_result"
    },
    {
     "data": {
      "image/png": "[encoded data removed]",
      "text/plain": [
       "<Figure size 640x480 with 1 Axes>"
      ]
     },
     "metadata": {},
     "output_type": "display_data"
    }
   ],
   "source": [
    "# ------ View History Graph -------------------------------------------\n",
    "# View Accuracy Graph, Loss Graph\n",
    "plt.plot(history.history['acc'])\n",
    "plt.plot(history.history['val_acc'])"
   ]
  },
  {
   "cell_type": "code",
   "execution_count": 320,
   "metadata": {},
   "outputs": [
    {
     "data": {
      "text/plain": [
       "[<matplotlib.lines.Line2D at 0x210a02b8910>]"
      ]
     },
     "execution_count": 320,
     "metadata": {},
     "output_type": "execute_result"
    },
    {
     "data": {
      "image/png": "[encoded data removed]",
      "text/plain": [
       "<Figure size 640x480 with 1 Axes>"
      ]
     },
     "metadata": {},
     "output_type": "display_data"
    }
   ],
   "source": [
    "plt.plot(history.history['loss'])\n",
    "plt.plot(history.history['val_loss'])"
   ]
  },
  {
   "cell_type": "code",
   "execution_count": 321,
   "metadata": {},
   "outputs": [
    {
     "data": {
      "text/plain": [
       "[<matplotlib.lines.Line2D at 0x210a0334070>]"
      ]
     },
     "execution_count": 321,
     "metadata": {},
     "output_type": "execute_result"
    },
    {
     "data": {
      "image/png": "[encoded data removed]",
      "text/plain": [
       "<Figure size 640x480 with 1 Axes>"
      ]
     },
     "metadata": {},
     "output_type": "display_data"
    }
   ],
   "source": [
    "# ------ View History Graph -------------------------------------------\n",
    "# View Accuracy Graph, Loss Graph\n",
    "plt.plot(history_t.history['acc'])\n",
    "plt.plot(history_t.history['val_acc'])"
   ]
  },
  {
   "cell_type": "code",
   "execution_count": 322,
   "metadata": {},
   "outputs": [
    {
     "data": {
      "text/plain": [
       "[<matplotlib.lines.Line2D at 0x21087e06d40>]"
      ]
     },
     "execution_count": 322,
     "metadata": {},
     "output_type": "execute_result"
    },
    {
     "data": {
      "image/png": "[encoded data removed]",
      "text/plain": [
       "<Figure size 640x480 with 1 Axes>"
      ]
     },
     "metadata": {},
     "output_type": "display_data"
    }
   ],
   "source": [
    "plt.plot(history_t.history['loss'])\n",
    "plt.plot(history_t.history['val_loss'])"
   ]
  }
 ],
 "metadata": {
  "kernelspec": {
   "display_name": "Python 3.10.8 64-bit",
   "language": "python",
   "name": "python3"
  },
  "language_info": {
   "codemirror_mode": {
    "name": "ipython",
    "version": 3
   },
   "file_extension": ".py",
   "mimetype": "text/x-python",
   "name": "python",
   "nbconvert_exporter": "python",
   "pygments_lexer": "ipython3",
   "version": "3.10.8"
  },
  "orig_nbformat": 4,
  "vscode": {
   "interpreter": {
    "hash": "0d72b21489300652f2337cd7f80c57cc00ce6bbc92cf98d285c178d0a8ced433"
   }
  }
 },
 "nbformat": 4,
 "nbformat_minor": 2
}
